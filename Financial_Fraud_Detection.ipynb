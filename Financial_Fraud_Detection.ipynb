{
  "cells": [
    {
      "cell_type": "code",
      "execution_count": null,
      "id": "11376da6",
      "metadata": {
        "_cell_guid": "b1076dfc-b9ad-4769-8c92-a6c4dae69d19",
        "_uuid": "8f2839f25d086af736a60e9eeb907d3b93b6e0e5",
        "execution": {
          "iopub.execute_input": "2023-01-19T15:43:47.040535Z",
          "iopub.status.busy": "2023-01-19T15:43:47.040068Z",
          "iopub.status.idle": "2023-01-19T15:43:47.059342Z",
          "shell.execute_reply": "2023-01-19T15:43:47.057640Z"
        },
        "papermill": {
          "duration": 0.044321,
          "end_time": "2023-01-19T15:43:47.062793",
          "exception": false,
          "start_time": "2023-01-19T15:43:47.018472",
          "status": "completed"
        },
        "tags": [],
        "id": "11376da6"
      },
      "outputs": [],
      "source": [
        "# This Python 3 environment comes with many helpful analytics libraries installed\n",
        "# It is defined by the kaggle/python Docker image: https://github.com/kaggle/docker-python\n",
        "# For example, here's several helpful packages to load\n",
        "\n",
        "import numpy as np # linear algebra\n",
        "import pandas as pd # data processing, CSV file I/O (e.g. pd.read_csv)\n",
        "\n",
        "# Input data files are available in the read-only \"../input/\" directory\n",
        "# For example, running this (by clicking run or pressing Shift+Enter) will list all files under the input directory\n",
        "\n",
        "import os\n",
        "for dirname, _, filenames in os.walk('/kaggle/input'):\n",
        "    for filename in filenames:\n",
        "        print(os.path.join(dirname, filename))\n",
        "\n",
        "# You can write up to 20GB to the current directory (/kaggle/working/) that gets preserved as output when you create a version using \"Save & Run All\"\n",
        "# You can also write temporary files to /kaggle/temp/, but they won't be saved outside of the current session"
      ]
    },
    {
      "cell_type": "code",
      "execution_count": null,
      "id": "b9af2c2b",
      "metadata": {
        "execution": {
          "iopub.execute_input": "2023-01-19T15:43:47.101921Z",
          "iopub.status.busy": "2023-01-19T15:43:47.101491Z",
          "iopub.status.idle": "2023-01-19T15:44:07.160918Z",
          "shell.execute_reply": "2023-01-19T15:44:07.159676Z"
        },
        "papermill": {
          "duration": 20.081527,
          "end_time": "2023-01-19T15:44:07.163381",
          "exception": false,
          "start_time": "2023-01-19T15:43:47.081854",
          "status": "completed"
        },
        "tags": [],
        "id": "b9af2c2b"
      },
      "outputs": [],
      "source": [
        "df=pd.read_csv('/content/Fraud.csv')"
      ]
    },
    {
      "cell_type": "code",
      "execution_count": null,
      "id": "114758e0",
      "metadata": {
        "execution": {
          "iopub.execute_input": "2023-01-19T15:44:07.202372Z",
          "iopub.status.busy": "2023-01-19T15:44:07.201981Z",
          "iopub.status.idle": "2023-01-19T15:44:09.289731Z",
          "shell.execute_reply": "2023-01-19T15:44:09.288072Z"
        },
        "papermill": {
          "duration": 2.110676,
          "end_time": "2023-01-19T15:44:09.292699",
          "exception": false,
          "start_time": "2023-01-19T15:44:07.182023",
          "status": "completed"
        },
        "tags": [],
        "id": "114758e0"
      },
      "outputs": [],
      "source": [
        "!mkdir train\n",
        "!mkdir test"
      ]
    },
    {
      "cell_type": "code",
      "execution_count": null,
      "id": "5533130a",
      "metadata": {
        "execution": {
          "iopub.execute_input": "2023-01-18T18:31:03.803230Z",
          "iopub.status.busy": "2023-01-18T18:31:03.802274Z",
          "iopub.status.idle": "2023-01-18T18:31:04.971246Z",
          "shell.execute_reply": "2023-01-18T18:31:04.969680Z",
          "shell.execute_reply.started": "2023-01-18T18:31:03.803158Z"
        },
        "papermill": {
          "duration": 0.018193,
          "end_time": "2023-01-19T15:44:09.329421",
          "exception": false,
          "start_time": "2023-01-19T15:44:09.311228",
          "status": "completed"
        },
        "tags": [],
        "id": "5533130a",
        "colab": {
          "base_uri": "https://localhost:8080/"
        },
        "outputId": "ddcd005b-26f4-47ed-c47e-73b2c806f621"
      },
      "outputs": [
        {
          "output_type": "stream",
          "name": "stdout",
          "text": [
            "       step      type     amount     nameOrig  oldbalanceOrg  newbalanceOrig  \\\n",
            "0         1   PAYMENT    9839.64  C1231006815      170136.00       160296.36   \n",
            "1         1   PAYMENT    1864.28  C1666544295       21249.00        19384.72   \n",
            "2         1  TRANSFER     181.00  C1305486145         181.00            0.00   \n",
            "3         1  CASH_OUT     181.00   C840083671         181.00            0.00   \n",
            "4         1   PAYMENT   11668.14  C2048537720       41554.00        29885.86   \n",
            "...     ...       ...        ...          ...            ...             ...   \n",
            "56198     9  CASH_OUT   16024.60  C1088493558      442118.00       426093.40   \n",
            "56199     9   PAYMENT   20502.92   C410885495        3073.00            0.00   \n",
            "56200     9   CASH_IN  175858.36   C702220078      290164.69       466023.05   \n",
            "56201     9   PAYMENT    2955.89  C1632500548      466023.05       463067.17   \n",
            "56202     9    PAYMEN        NaN          NaN            NaN             NaN   \n",
            "\n",
            "          nameDest  oldbalanceDest  newbalanceDest  isFraud  isFlaggedFraud  \n",
            "0      M1979787155             0.0            0.00      0.0             0.0  \n",
            "1      M2044282225             0.0            0.00      0.0             0.0  \n",
            "2       C553264065             0.0            0.00      1.0             0.0  \n",
            "3        C38997010         21182.0            0.00      1.0             0.0  \n",
            "4      M1230701703             0.0            0.00      0.0             0.0  \n",
            "...            ...             ...             ...      ...             ...  \n",
            "56198  C1084323592          5818.0         8074.67      0.0             0.0  \n",
            "56199  M1731153077             0.0            0.00      0.0             0.0  \n",
            "56200    C65594254         24083.0            0.00      0.0             0.0  \n",
            "56201   M363811903             0.0            0.00      0.0             0.0  \n",
            "56202          NaN             NaN             NaN      NaN             NaN  \n",
            "\n",
            "[56203 rows x 11 columns]\n"
          ]
        }
      ],
      "source": [
        "print(df)"
      ]
    },
    {
      "cell_type": "code",
      "execution_count": null,
      "id": "b89651a0",
      "metadata": {
        "papermill": {
          "duration": 0.018642,
          "end_time": "2023-01-19T15:44:09.366778",
          "exception": false,
          "start_time": "2023-01-19T15:44:09.348136",
          "status": "completed"
        },
        "tags": [],
        "id": "b89651a0",
        "colab": {
          "base_uri": "https://localhost:8080/"
        },
        "outputId": "09897de9-c130-4c93-e26e-15f4d48c3254"
      },
      "outputs": [
        {
          "output_type": "execute_result",
          "data": {
            "text/plain": [
              "1"
            ]
          },
          "metadata": {},
          "execution_count": 14
        }
      ],
      "source": [
        "df['isFraud'].isna().sum()"
      ]
    },
    {
      "cell_type": "code",
      "source": [
        "df['isFraud'].isna().dropna()"
      ],
      "metadata": {
        "colab": {
          "base_uri": "https://localhost:8080/",
          "height": 458
        },
        "id": "zVE7xtNC2dPk",
        "outputId": "9a8fe486-6cdc-491b-df4c-aae7eb3679a3"
      },
      "id": "zVE7xtNC2dPk",
      "execution_count": null,
      "outputs": [
        {
          "output_type": "execute_result",
          "data": {
            "text/plain": [
              "0         False\n",
              "1         False\n",
              "2         False\n",
              "3         False\n",
              "4         False\n",
              "          ...  \n",
              "151794    False\n",
              "151795    False\n",
              "151796    False\n",
              "151797    False\n",
              "151798     True\n",
              "Name: isFraud, Length: 151799, dtype: bool"
            ],
            "text/html": [
              "<div>\n",
              "<style scoped>\n",
              "    .dataframe tbody tr th:only-of-type {\n",
              "        vertical-align: middle;\n",
              "    }\n",
              "\n",
              "    .dataframe tbody tr th {\n",
              "        vertical-align: top;\n",
              "    }\n",
              "\n",
              "    .dataframe thead th {\n",
              "        text-align: right;\n",
              "    }\n",
              "</style>\n",
              "<table border=\"1\" class=\"dataframe\">\n",
              "  <thead>\n",
              "    <tr style=\"text-align: right;\">\n",
              "      <th></th>\n",
              "      <th>isFraud</th>\n",
              "    </tr>\n",
              "  </thead>\n",
              "  <tbody>\n",
              "    <tr>\n",
              "      <th>0</th>\n",
              "      <td>False</td>\n",
              "    </tr>\n",
              "    <tr>\n",
              "      <th>1</th>\n",
              "      <td>False</td>\n",
              "    </tr>\n",
              "    <tr>\n",
              "      <th>2</th>\n",
              "      <td>False</td>\n",
              "    </tr>\n",
              "    <tr>\n",
              "      <th>3</th>\n",
              "      <td>False</td>\n",
              "    </tr>\n",
              "    <tr>\n",
              "      <th>4</th>\n",
              "      <td>False</td>\n",
              "    </tr>\n",
              "    <tr>\n",
              "      <th>...</th>\n",
              "      <td>...</td>\n",
              "    </tr>\n",
              "    <tr>\n",
              "      <th>151794</th>\n",
              "      <td>False</td>\n",
              "    </tr>\n",
              "    <tr>\n",
              "      <th>151795</th>\n",
              "      <td>False</td>\n",
              "    </tr>\n",
              "    <tr>\n",
              "      <th>151796</th>\n",
              "      <td>False</td>\n",
              "    </tr>\n",
              "    <tr>\n",
              "      <th>151797</th>\n",
              "      <td>False</td>\n",
              "    </tr>\n",
              "    <tr>\n",
              "      <th>151798</th>\n",
              "      <td>True</td>\n",
              "    </tr>\n",
              "  </tbody>\n",
              "</table>\n",
              "<p>151799 rows × 1 columns</p>\n",
              "</div><br><label><b>dtype:</b> bool</label>"
            ]
          },
          "metadata": {},
          "execution_count": 15
        }
      ]
    },
    {
      "cell_type": "code",
      "source": [
        "df.dropna().isna().sum()"
      ],
      "metadata": {
        "colab": {
          "base_uri": "https://localhost:8080/",
          "height": 429
        },
        "id": "RUSdAelX2nQf",
        "outputId": "cd4ec138-9988-47a2-e2c5-ed8c6f79acd5"
      },
      "id": "RUSdAelX2nQf",
      "execution_count": null,
      "outputs": [
        {
          "output_type": "execute_result",
          "data": {
            "text/plain": [
              "step              0\n",
              "type              0\n",
              "amount            0\n",
              "nameOrig          0\n",
              "oldbalanceOrg     0\n",
              "newbalanceOrig    0\n",
              "nameDest          0\n",
              "oldbalanceDest    0\n",
              "newbalanceDest    0\n",
              "isFraud           0\n",
              "isFlaggedFraud    0\n",
              "dtype: int64"
            ],
            "text/html": [
              "<div>\n",
              "<style scoped>\n",
              "    .dataframe tbody tr th:only-of-type {\n",
              "        vertical-align: middle;\n",
              "    }\n",
              "\n",
              "    .dataframe tbody tr th {\n",
              "        vertical-align: top;\n",
              "    }\n",
              "\n",
              "    .dataframe thead th {\n",
              "        text-align: right;\n",
              "    }\n",
              "</style>\n",
              "<table border=\"1\" class=\"dataframe\">\n",
              "  <thead>\n",
              "    <tr style=\"text-align: right;\">\n",
              "      <th></th>\n",
              "      <th>0</th>\n",
              "    </tr>\n",
              "  </thead>\n",
              "  <tbody>\n",
              "    <tr>\n",
              "      <th>step</th>\n",
              "      <td>0</td>\n",
              "    </tr>\n",
              "    <tr>\n",
              "      <th>type</th>\n",
              "      <td>0</td>\n",
              "    </tr>\n",
              "    <tr>\n",
              "      <th>amount</th>\n",
              "      <td>0</td>\n",
              "    </tr>\n",
              "    <tr>\n",
              "      <th>nameOrig</th>\n",
              "      <td>0</td>\n",
              "    </tr>\n",
              "    <tr>\n",
              "      <th>oldbalanceOrg</th>\n",
              "      <td>0</td>\n",
              "    </tr>\n",
              "    <tr>\n",
              "      <th>newbalanceOrig</th>\n",
              "      <td>0</td>\n",
              "    </tr>\n",
              "    <tr>\n",
              "      <th>nameDest</th>\n",
              "      <td>0</td>\n",
              "    </tr>\n",
              "    <tr>\n",
              "      <th>oldbalanceDest</th>\n",
              "      <td>0</td>\n",
              "    </tr>\n",
              "    <tr>\n",
              "      <th>newbalanceDest</th>\n",
              "      <td>0</td>\n",
              "    </tr>\n",
              "    <tr>\n",
              "      <th>isFraud</th>\n",
              "      <td>0</td>\n",
              "    </tr>\n",
              "    <tr>\n",
              "      <th>isFlaggedFraud</th>\n",
              "      <td>0</td>\n",
              "    </tr>\n",
              "  </tbody>\n",
              "</table>\n",
              "</div><br><label><b>dtype:</b> int64</label>"
            ]
          },
          "metadata": {},
          "execution_count": 19
        }
      ]
    },
    {
      "cell_type": "code",
      "source": [
        "df"
      ],
      "metadata": {
        "colab": {
          "base_uri": "https://localhost:8080/",
          "height": 443
        },
        "id": "FK-mMUyh3ArA",
        "outputId": "12d36b02-024c-4062-8a06-766e31529994"
      },
      "id": "FK-mMUyh3ArA",
      "execution_count": null,
      "outputs": [
        {
          "output_type": "execute_result",
          "data": {
            "text/plain": [
              "        step      type    amount     nameOrig  oldbalanceOrg  newbalanceOrig  \\\n",
              "0          1   PAYMENT   9839.64  C1231006815      170136.00       160296.36   \n",
              "1          1   PAYMENT   1864.28  C1666544295       21249.00        19384.72   \n",
              "2          1  TRANSFER    181.00  C1305486145         181.00            0.00   \n",
              "3          1  CASH_OUT    181.00   C840083671         181.00            0.00   \n",
              "4          1   PAYMENT  11668.14  C2048537720       41554.00        29885.86   \n",
              "...      ...       ...       ...          ...            ...             ...   \n",
              "151794    12   PAYMENT  21278.77  C1003833784      728718.50       707439.73   \n",
              "151795    12   PAYMENT   7131.13   C988075754      707439.73       700308.60   \n",
              "151796    12   PAYMENT   2870.84  C1159606163      700308.60       697437.75   \n",
              "151797    12   PAYMENT  17873.00  C1714697587      697437.75       679564.76   \n",
              "151798    12   PAYMENT   7513.74  C1069154168        6795.00             NaN   \n",
              "\n",
              "           nameDest  oldbalanceDest  newbalanceDest  isFraud  isFlaggedFraud  \n",
              "0       M1979787155             0.0             0.0      0.0             0.0  \n",
              "1       M2044282225             0.0             0.0      0.0             0.0  \n",
              "2        C553264065             0.0             0.0      1.0             0.0  \n",
              "3         C38997010         21182.0             0.0      1.0             0.0  \n",
              "4       M1230701703             0.0             0.0      0.0             0.0  \n",
              "...             ...             ...             ...      ...             ...  \n",
              "151794  M2001277538             0.0             0.0      0.0             0.0  \n",
              "151795  M1419191344             0.0             0.0      0.0             0.0  \n",
              "151796  M2054942544             0.0             0.0      0.0             0.0  \n",
              "151797   M200223521             0.0             0.0      0.0             0.0  \n",
              "151798          NaN             NaN             NaN      NaN             NaN  \n",
              "\n",
              "[151799 rows x 11 columns]"
            ],
            "text/html": [
              "\n",
              "  <div id=\"df-fd665f2c-d5d6-486c-b77f-c6de5121c0ba\" class=\"colab-df-container\">\n",
              "    <div>\n",
              "<style scoped>\n",
              "    .dataframe tbody tr th:only-of-type {\n",
              "        vertical-align: middle;\n",
              "    }\n",
              "\n",
              "    .dataframe tbody tr th {\n",
              "        vertical-align: top;\n",
              "    }\n",
              "\n",
              "    .dataframe thead th {\n",
              "        text-align: right;\n",
              "    }\n",
              "</style>\n",
              "<table border=\"1\" class=\"dataframe\">\n",
              "  <thead>\n",
              "    <tr style=\"text-align: right;\">\n",
              "      <th></th>\n",
              "      <th>step</th>\n",
              "      <th>type</th>\n",
              "      <th>amount</th>\n",
              "      <th>nameOrig</th>\n",
              "      <th>oldbalanceOrg</th>\n",
              "      <th>newbalanceOrig</th>\n",
              "      <th>nameDest</th>\n",
              "      <th>oldbalanceDest</th>\n",
              "      <th>newbalanceDest</th>\n",
              "      <th>isFraud</th>\n",
              "      <th>isFlaggedFraud</th>\n",
              "    </tr>\n",
              "  </thead>\n",
              "  <tbody>\n",
              "    <tr>\n",
              "      <th>0</th>\n",
              "      <td>1</td>\n",
              "      <td>PAYMENT</td>\n",
              "      <td>9839.64</td>\n",
              "      <td>C1231006815</td>\n",
              "      <td>170136.00</td>\n",
              "      <td>160296.36</td>\n",
              "      <td>M1979787155</td>\n",
              "      <td>0.0</td>\n",
              "      <td>0.0</td>\n",
              "      <td>0.0</td>\n",
              "      <td>0.0</td>\n",
              "    </tr>\n",
              "    <tr>\n",
              "      <th>1</th>\n",
              "      <td>1</td>\n",
              "      <td>PAYMENT</td>\n",
              "      <td>1864.28</td>\n",
              "      <td>C1666544295</td>\n",
              "      <td>21249.00</td>\n",
              "      <td>19384.72</td>\n",
              "      <td>M2044282225</td>\n",
              "      <td>0.0</td>\n",
              "      <td>0.0</td>\n",
              "      <td>0.0</td>\n",
              "      <td>0.0</td>\n",
              "    </tr>\n",
              "    <tr>\n",
              "      <th>2</th>\n",
              "      <td>1</td>\n",
              "      <td>TRANSFER</td>\n",
              "      <td>181.00</td>\n",
              "      <td>C1305486145</td>\n",
              "      <td>181.00</td>\n",
              "      <td>0.00</td>\n",
              "      <td>C553264065</td>\n",
              "      <td>0.0</td>\n",
              "      <td>0.0</td>\n",
              "      <td>1.0</td>\n",
              "      <td>0.0</td>\n",
              "    </tr>\n",
              "    <tr>\n",
              "      <th>3</th>\n",
              "      <td>1</td>\n",
              "      <td>CASH_OUT</td>\n",
              "      <td>181.00</td>\n",
              "      <td>C840083671</td>\n",
              "      <td>181.00</td>\n",
              "      <td>0.00</td>\n",
              "      <td>C38997010</td>\n",
              "      <td>21182.0</td>\n",
              "      <td>0.0</td>\n",
              "      <td>1.0</td>\n",
              "      <td>0.0</td>\n",
              "    </tr>\n",
              "    <tr>\n",
              "      <th>4</th>\n",
              "      <td>1</td>\n",
              "      <td>PAYMENT</td>\n",
              "      <td>11668.14</td>\n",
              "      <td>C2048537720</td>\n",
              "      <td>41554.00</td>\n",
              "      <td>29885.86</td>\n",
              "      <td>M1230701703</td>\n",
              "      <td>0.0</td>\n",
              "      <td>0.0</td>\n",
              "      <td>0.0</td>\n",
              "      <td>0.0</td>\n",
              "    </tr>\n",
              "    <tr>\n",
              "      <th>...</th>\n",
              "      <td>...</td>\n",
              "      <td>...</td>\n",
              "      <td>...</td>\n",
              "      <td>...</td>\n",
              "      <td>...</td>\n",
              "      <td>...</td>\n",
              "      <td>...</td>\n",
              "      <td>...</td>\n",
              "      <td>...</td>\n",
              "      <td>...</td>\n",
              "      <td>...</td>\n",
              "    </tr>\n",
              "    <tr>\n",
              "      <th>151794</th>\n",
              "      <td>12</td>\n",
              "      <td>PAYMENT</td>\n",
              "      <td>21278.77</td>\n",
              "      <td>C1003833784</td>\n",
              "      <td>728718.50</td>\n",
              "      <td>707439.73</td>\n",
              "      <td>M2001277538</td>\n",
              "      <td>0.0</td>\n",
              "      <td>0.0</td>\n",
              "      <td>0.0</td>\n",
              "      <td>0.0</td>\n",
              "    </tr>\n",
              "    <tr>\n",
              "      <th>151795</th>\n",
              "      <td>12</td>\n",
              "      <td>PAYMENT</td>\n",
              "      <td>7131.13</td>\n",
              "      <td>C988075754</td>\n",
              "      <td>707439.73</td>\n",
              "      <td>700308.60</td>\n",
              "      <td>M1419191344</td>\n",
              "      <td>0.0</td>\n",
              "      <td>0.0</td>\n",
              "      <td>0.0</td>\n",
              "      <td>0.0</td>\n",
              "    </tr>\n",
              "    <tr>\n",
              "      <th>151796</th>\n",
              "      <td>12</td>\n",
              "      <td>PAYMENT</td>\n",
              "      <td>2870.84</td>\n",
              "      <td>C1159606163</td>\n",
              "      <td>700308.60</td>\n",
              "      <td>697437.75</td>\n",
              "      <td>M2054942544</td>\n",
              "      <td>0.0</td>\n",
              "      <td>0.0</td>\n",
              "      <td>0.0</td>\n",
              "      <td>0.0</td>\n",
              "    </tr>\n",
              "    <tr>\n",
              "      <th>151797</th>\n",
              "      <td>12</td>\n",
              "      <td>PAYMENT</td>\n",
              "      <td>17873.00</td>\n",
              "      <td>C1714697587</td>\n",
              "      <td>697437.75</td>\n",
              "      <td>679564.76</td>\n",
              "      <td>M200223521</td>\n",
              "      <td>0.0</td>\n",
              "      <td>0.0</td>\n",
              "      <td>0.0</td>\n",
              "      <td>0.0</td>\n",
              "    </tr>\n",
              "    <tr>\n",
              "      <th>151798</th>\n",
              "      <td>12</td>\n",
              "      <td>PAYMENT</td>\n",
              "      <td>7513.74</td>\n",
              "      <td>C1069154168</td>\n",
              "      <td>6795.00</td>\n",
              "      <td>NaN</td>\n",
              "      <td>NaN</td>\n",
              "      <td>NaN</td>\n",
              "      <td>NaN</td>\n",
              "      <td>NaN</td>\n",
              "      <td>NaN</td>\n",
              "    </tr>\n",
              "  </tbody>\n",
              "</table>\n",
              "<p>151799 rows × 11 columns</p>\n",
              "</div>\n",
              "    <div class=\"colab-df-buttons\">\n",
              "\n",
              "  <div class=\"colab-df-container\">\n",
              "    <button class=\"colab-df-convert\" onclick=\"convertToInteractive('df-fd665f2c-d5d6-486c-b77f-c6de5121c0ba')\"\n",
              "            title=\"Convert this dataframe to an interactive table.\"\n",
              "            style=\"display:none;\">\n",
              "\n",
              "  <svg xmlns=\"http://www.w3.org/2000/svg\" height=\"24px\" viewBox=\"0 -960 960 960\">\n",
              "    <path d=\"M120-120v-720h720v720H120Zm60-500h600v-160H180v160Zm220 220h160v-160H400v160Zm0 220h160v-160H400v160ZM180-400h160v-160H180v160Zm440 0h160v-160H620v160ZM180-180h160v-160H180v160Zm440 0h160v-160H620v160Z\"/>\n",
              "  </svg>\n",
              "    </button>\n",
              "\n",
              "  <style>\n",
              "    .colab-df-container {\n",
              "      display:flex;\n",
              "      gap: 12px;\n",
              "    }\n",
              "\n",
              "    .colab-df-convert {\n",
              "      background-color: #E8F0FE;\n",
              "      border: none;\n",
              "      border-radius: 50%;\n",
              "      cursor: pointer;\n",
              "      display: none;\n",
              "      fill: #1967D2;\n",
              "      height: 32px;\n",
              "      padding: 0 0 0 0;\n",
              "      width: 32px;\n",
              "    }\n",
              "\n",
              "    .colab-df-convert:hover {\n",
              "      background-color: #E2EBFA;\n",
              "      box-shadow: 0px 1px 2px rgba(60, 64, 67, 0.3), 0px 1px 3px 1px rgba(60, 64, 67, 0.15);\n",
              "      fill: #174EA6;\n",
              "    }\n",
              "\n",
              "    .colab-df-buttons div {\n",
              "      margin-bottom: 4px;\n",
              "    }\n",
              "\n",
              "    [theme=dark] .colab-df-convert {\n",
              "      background-color: #3B4455;\n",
              "      fill: #D2E3FC;\n",
              "    }\n",
              "\n",
              "    [theme=dark] .colab-df-convert:hover {\n",
              "      background-color: #434B5C;\n",
              "      box-shadow: 0px 1px 3px 1px rgba(0, 0, 0, 0.15);\n",
              "      filter: drop-shadow(0px 1px 2px rgba(0, 0, 0, 0.3));\n",
              "      fill: #FFFFFF;\n",
              "    }\n",
              "  </style>\n",
              "\n",
              "    <script>\n",
              "      const buttonEl =\n",
              "        document.querySelector('#df-fd665f2c-d5d6-486c-b77f-c6de5121c0ba button.colab-df-convert');\n",
              "      buttonEl.style.display =\n",
              "        google.colab.kernel.accessAllowed ? 'block' : 'none';\n",
              "\n",
              "      async function convertToInteractive(key) {\n",
              "        const element = document.querySelector('#df-fd665f2c-d5d6-486c-b77f-c6de5121c0ba');\n",
              "        const dataTable =\n",
              "          await google.colab.kernel.invokeFunction('convertToInteractive',\n",
              "                                                    [key], {});\n",
              "        if (!dataTable) return;\n",
              "\n",
              "        const docLinkHtml = 'Like what you see? Visit the ' +\n",
              "          '<a target=\"_blank\" href=https://colab.research.google.com/notebooks/data_table.ipynb>data table notebook</a>'\n",
              "          + ' to learn more about interactive tables.';\n",
              "        element.innerHTML = '';\n",
              "        dataTable['output_type'] = 'display_data';\n",
              "        await google.colab.output.renderOutput(dataTable, element);\n",
              "        const docLink = document.createElement('div');\n",
              "        docLink.innerHTML = docLinkHtml;\n",
              "        element.appendChild(docLink);\n",
              "      }\n",
              "    </script>\n",
              "  </div>\n",
              "\n",
              "\n",
              "<div id=\"df-8eda8208-378f-4697-bba0-2eafa6cfea3f\">\n",
              "  <button class=\"colab-df-quickchart\" onclick=\"quickchart('df-8eda8208-378f-4697-bba0-2eafa6cfea3f')\"\n",
              "            title=\"Suggest charts\"\n",
              "            style=\"display:none;\">\n",
              "\n",
              "<svg xmlns=\"http://www.w3.org/2000/svg\" height=\"24px\"viewBox=\"0 0 24 24\"\n",
              "     width=\"24px\">\n",
              "    <g>\n",
              "        <path d=\"M19 3H5c-1.1 0-2 .9-2 2v14c0 1.1.9 2 2 2h14c1.1 0 2-.9 2-2V5c0-1.1-.9-2-2-2zM9 17H7v-7h2v7zm4 0h-2V7h2v10zm4 0h-2v-4h2v4z\"/>\n",
              "    </g>\n",
              "</svg>\n",
              "  </button>\n",
              "\n",
              "<style>\n",
              "  .colab-df-quickchart {\n",
              "      --bg-color: #E8F0FE;\n",
              "      --fill-color: #1967D2;\n",
              "      --hover-bg-color: #E2EBFA;\n",
              "      --hover-fill-color: #174EA6;\n",
              "      --disabled-fill-color: #AAA;\n",
              "      --disabled-bg-color: #DDD;\n",
              "  }\n",
              "\n",
              "  [theme=dark] .colab-df-quickchart {\n",
              "      --bg-color: #3B4455;\n",
              "      --fill-color: #D2E3FC;\n",
              "      --hover-bg-color: #434B5C;\n",
              "      --hover-fill-color: #FFFFFF;\n",
              "      --disabled-bg-color: #3B4455;\n",
              "      --disabled-fill-color: #666;\n",
              "  }\n",
              "\n",
              "  .colab-df-quickchart {\n",
              "    background-color: var(--bg-color);\n",
              "    border: none;\n",
              "    border-radius: 50%;\n",
              "    cursor: pointer;\n",
              "    display: none;\n",
              "    fill: var(--fill-color);\n",
              "    height: 32px;\n",
              "    padding: 0;\n",
              "    width: 32px;\n",
              "  }\n",
              "\n",
              "  .colab-df-quickchart:hover {\n",
              "    background-color: var(--hover-bg-color);\n",
              "    box-shadow: 0 1px 2px rgba(60, 64, 67, 0.3), 0 1px 3px 1px rgba(60, 64, 67, 0.15);\n",
              "    fill: var(--button-hover-fill-color);\n",
              "  }\n",
              "\n",
              "  .colab-df-quickchart-complete:disabled,\n",
              "  .colab-df-quickchart-complete:disabled:hover {\n",
              "    background-color: var(--disabled-bg-color);\n",
              "    fill: var(--disabled-fill-color);\n",
              "    box-shadow: none;\n",
              "  }\n",
              "\n",
              "  .colab-df-spinner {\n",
              "    border: 2px solid var(--fill-color);\n",
              "    border-color: transparent;\n",
              "    border-bottom-color: var(--fill-color);\n",
              "    animation:\n",
              "      spin 1s steps(1) infinite;\n",
              "  }\n",
              "\n",
              "  @keyframes spin {\n",
              "    0% {\n",
              "      border-color: transparent;\n",
              "      border-bottom-color: var(--fill-color);\n",
              "      border-left-color: var(--fill-color);\n",
              "    }\n",
              "    20% {\n",
              "      border-color: transparent;\n",
              "      border-left-color: var(--fill-color);\n",
              "      border-top-color: var(--fill-color);\n",
              "    }\n",
              "    30% {\n",
              "      border-color: transparent;\n",
              "      border-left-color: var(--fill-color);\n",
              "      border-top-color: var(--fill-color);\n",
              "      border-right-color: var(--fill-color);\n",
              "    }\n",
              "    40% {\n",
              "      border-color: transparent;\n",
              "      border-right-color: var(--fill-color);\n",
              "      border-top-color: var(--fill-color);\n",
              "    }\n",
              "    60% {\n",
              "      border-color: transparent;\n",
              "      border-right-color: var(--fill-color);\n",
              "    }\n",
              "    80% {\n",
              "      border-color: transparent;\n",
              "      border-right-color: var(--fill-color);\n",
              "      border-bottom-color: var(--fill-color);\n",
              "    }\n",
              "    90% {\n",
              "      border-color: transparent;\n",
              "      border-bottom-color: var(--fill-color);\n",
              "    }\n",
              "  }\n",
              "</style>\n",
              "\n",
              "  <script>\n",
              "    async function quickchart(key) {\n",
              "      const quickchartButtonEl =\n",
              "        document.querySelector('#' + key + ' button');\n",
              "      quickchartButtonEl.disabled = true;  // To prevent multiple clicks.\n",
              "      quickchartButtonEl.classList.add('colab-df-spinner');\n",
              "      try {\n",
              "        const charts = await google.colab.kernel.invokeFunction(\n",
              "            'suggestCharts', [key], {});\n",
              "      } catch (error) {\n",
              "        console.error('Error during call to suggestCharts:', error);\n",
              "      }\n",
              "      quickchartButtonEl.classList.remove('colab-df-spinner');\n",
              "      quickchartButtonEl.classList.add('colab-df-quickchart-complete');\n",
              "    }\n",
              "    (() => {\n",
              "      let quickchartButtonEl =\n",
              "        document.querySelector('#df-8eda8208-378f-4697-bba0-2eafa6cfea3f button');\n",
              "      quickchartButtonEl.style.display =\n",
              "        google.colab.kernel.accessAllowed ? 'block' : 'none';\n",
              "    })();\n",
              "  </script>\n",
              "</div>\n",
              "\n",
              "  <div id=\"id_cdb74263-28c8-46ee-a1d0-63a15dbe08fb\">\n",
              "    <style>\n",
              "      .colab-df-generate {\n",
              "        background-color: #E8F0FE;\n",
              "        border: none;\n",
              "        border-radius: 50%;\n",
              "        cursor: pointer;\n",
              "        display: none;\n",
              "        fill: #1967D2;\n",
              "        height: 32px;\n",
              "        padding: 0 0 0 0;\n",
              "        width: 32px;\n",
              "      }\n",
              "\n",
              "      .colab-df-generate:hover {\n",
              "        background-color: #E2EBFA;\n",
              "        box-shadow: 0px 1px 2px rgba(60, 64, 67, 0.3), 0px 1px 3px 1px rgba(60, 64, 67, 0.15);\n",
              "        fill: #174EA6;\n",
              "      }\n",
              "\n",
              "      [theme=dark] .colab-df-generate {\n",
              "        background-color: #3B4455;\n",
              "        fill: #D2E3FC;\n",
              "      }\n",
              "\n",
              "      [theme=dark] .colab-df-generate:hover {\n",
              "        background-color: #434B5C;\n",
              "        box-shadow: 0px 1px 3px 1px rgba(0, 0, 0, 0.15);\n",
              "        filter: drop-shadow(0px 1px 2px rgba(0, 0, 0, 0.3));\n",
              "        fill: #FFFFFF;\n",
              "      }\n",
              "    </style>\n",
              "    <button class=\"colab-df-generate\" onclick=\"generateWithVariable('df')\"\n",
              "            title=\"Generate code using this dataframe.\"\n",
              "            style=\"display:none;\">\n",
              "\n",
              "  <svg xmlns=\"http://www.w3.org/2000/svg\" height=\"24px\"viewBox=\"0 0 24 24\"\n",
              "       width=\"24px\">\n",
              "    <path d=\"M7,19H8.4L18.45,9,17,7.55,7,17.6ZM5,21V16.75L18.45,3.32a2,2,0,0,1,2.83,0l1.4,1.43a1.91,1.91,0,0,1,.58,1.4,1.91,1.91,0,0,1-.58,1.4L9.25,21ZM18.45,9,17,7.55Zm-12,3A5.31,5.31,0,0,0,4.9,8.1,5.31,5.31,0,0,0,1,6.5,5.31,5.31,0,0,0,4.9,4.9,5.31,5.31,0,0,0,6.5,1,5.31,5.31,0,0,0,8.1,4.9,5.31,5.31,0,0,0,12,6.5,5.46,5.46,0,0,0,6.5,12Z\"/>\n",
              "  </svg>\n",
              "    </button>\n",
              "    <script>\n",
              "      (() => {\n",
              "      const buttonEl =\n",
              "        document.querySelector('#id_cdb74263-28c8-46ee-a1d0-63a15dbe08fb button.colab-df-generate');\n",
              "      buttonEl.style.display =\n",
              "        google.colab.kernel.accessAllowed ? 'block' : 'none';\n",
              "\n",
              "      buttonEl.onclick = () => {\n",
              "        google.colab.notebook.generateWithVariable('df');\n",
              "      }\n",
              "      })();\n",
              "    </script>\n",
              "  </div>\n",
              "\n",
              "    </div>\n",
              "  </div>\n"
            ],
            "application/vnd.google.colaboratory.intrinsic+json": {
              "type": "dataframe",
              "variable_name": "df"
            }
          },
          "metadata": {},
          "execution_count": 21
        }
      ]
    },
    {
      "cell_type": "code",
      "execution_count": null,
      "id": "19eca49c",
      "metadata": {
        "execution": {
          "iopub.execute_input": "2023-01-19T15:44:09.405565Z",
          "iopub.status.busy": "2023-01-19T15:44:09.405101Z",
          "iopub.status.idle": "2023-01-19T15:44:09.448430Z",
          "shell.execute_reply": "2023-01-19T15:44:09.447391Z"
        },
        "papermill": {
          "duration": 0.066501,
          "end_time": "2023-01-19T15:44:09.451293",
          "exception": false,
          "start_time": "2023-01-19T15:44:09.384792",
          "status": "completed"
        },
        "tags": [],
        "colab": {
          "base_uri": "https://localhost:8080/",
          "height": 429
        },
        "id": "19eca49c",
        "outputId": "f79e1739-164b-4203-a69d-7d8685c72347"
      },
      "outputs": [
        {
          "output_type": "execute_result",
          "data": {
            "text/plain": [
              "step              0\n",
              "type              0\n",
              "amount            0\n",
              "nameOrig          0\n",
              "oldbalanceOrg     0\n",
              "newbalanceOrig    1\n",
              "nameDest          1\n",
              "oldbalanceDest    1\n",
              "newbalanceDest    1\n",
              "isFraud           1\n",
              "isFlaggedFraud    1\n",
              "dtype: int64"
            ],
            "text/html": [
              "<div>\n",
              "<style scoped>\n",
              "    .dataframe tbody tr th:only-of-type {\n",
              "        vertical-align: middle;\n",
              "    }\n",
              "\n",
              "    .dataframe tbody tr th {\n",
              "        vertical-align: top;\n",
              "    }\n",
              "\n",
              "    .dataframe thead th {\n",
              "        text-align: right;\n",
              "    }\n",
              "</style>\n",
              "<table border=\"1\" class=\"dataframe\">\n",
              "  <thead>\n",
              "    <tr style=\"text-align: right;\">\n",
              "      <th></th>\n",
              "      <th>0</th>\n",
              "    </tr>\n",
              "  </thead>\n",
              "  <tbody>\n",
              "    <tr>\n",
              "      <th>step</th>\n",
              "      <td>0</td>\n",
              "    </tr>\n",
              "    <tr>\n",
              "      <th>type</th>\n",
              "      <td>0</td>\n",
              "    </tr>\n",
              "    <tr>\n",
              "      <th>amount</th>\n",
              "      <td>0</td>\n",
              "    </tr>\n",
              "    <tr>\n",
              "      <th>nameOrig</th>\n",
              "      <td>0</td>\n",
              "    </tr>\n",
              "    <tr>\n",
              "      <th>oldbalanceOrg</th>\n",
              "      <td>0</td>\n",
              "    </tr>\n",
              "    <tr>\n",
              "      <th>newbalanceOrig</th>\n",
              "      <td>1</td>\n",
              "    </tr>\n",
              "    <tr>\n",
              "      <th>nameDest</th>\n",
              "      <td>1</td>\n",
              "    </tr>\n",
              "    <tr>\n",
              "      <th>oldbalanceDest</th>\n",
              "      <td>1</td>\n",
              "    </tr>\n",
              "    <tr>\n",
              "      <th>newbalanceDest</th>\n",
              "      <td>1</td>\n",
              "    </tr>\n",
              "    <tr>\n",
              "      <th>isFraud</th>\n",
              "      <td>1</td>\n",
              "    </tr>\n",
              "    <tr>\n",
              "      <th>isFlaggedFraud</th>\n",
              "      <td>1</td>\n",
              "    </tr>\n",
              "  </tbody>\n",
              "</table>\n",
              "</div><br><label><b>dtype:</b> int64</label>"
            ]
          },
          "metadata": {},
          "execution_count": 22
        }
      ],
      "source": [
        "df.isnull().sum()"
      ]
    },
    {
      "cell_type": "code",
      "source": [
        "df.dropna()"
      ],
      "metadata": {
        "colab": {
          "base_uri": "https://localhost:8080/",
          "height": 443
        },
        "id": "UGSCoeyg3MXs",
        "outputId": "609e9135-35c7-4552-8b28-29ee06f6dab6"
      },
      "id": "UGSCoeyg3MXs",
      "execution_count": null,
      "outputs": [
        {
          "output_type": "execute_result",
          "data": {
            "text/plain": [
              "        step      type    amount     nameOrig  oldbalanceOrg  newbalanceOrig  \\\n",
              "0          1   PAYMENT   9839.64  C1231006815      170136.00       160296.36   \n",
              "1          1   PAYMENT   1864.28  C1666544295       21249.00        19384.72   \n",
              "2          1  TRANSFER    181.00  C1305486145         181.00            0.00   \n",
              "3          1  CASH_OUT    181.00   C840083671         181.00            0.00   \n",
              "4          1   PAYMENT  11668.14  C2048537720       41554.00        29885.86   \n",
              "...      ...       ...       ...          ...            ...             ...   \n",
              "151793    12   PAYMENT   6266.61  C2121687771      734985.11       728718.50   \n",
              "151794    12   PAYMENT  21278.77  C1003833784      728718.50       707439.73   \n",
              "151795    12   PAYMENT   7131.13   C988075754      707439.73       700308.60   \n",
              "151796    12   PAYMENT   2870.84  C1159606163      700308.60       697437.75   \n",
              "151797    12   PAYMENT  17873.00  C1714697587      697437.75       679564.76   \n",
              "\n",
              "           nameDest  oldbalanceDest  newbalanceDest  isFraud  isFlaggedFraud  \n",
              "0       M1979787155             0.0             0.0      0.0             0.0  \n",
              "1       M2044282225             0.0             0.0      0.0             0.0  \n",
              "2        C553264065             0.0             0.0      1.0             0.0  \n",
              "3         C38997010         21182.0             0.0      1.0             0.0  \n",
              "4       M1230701703             0.0             0.0      0.0             0.0  \n",
              "...             ...             ...             ...      ...             ...  \n",
              "151793  M1046092014             0.0             0.0      0.0             0.0  \n",
              "151794  M2001277538             0.0             0.0      0.0             0.0  \n",
              "151795  M1419191344             0.0             0.0      0.0             0.0  \n",
              "151796  M2054942544             0.0             0.0      0.0             0.0  \n",
              "151797   M200223521             0.0             0.0      0.0             0.0  \n",
              "\n",
              "[151798 rows x 11 columns]"
            ],
            "text/html": [
              "\n",
              "  <div id=\"df-d408d5b5-92ee-4b06-992b-462e1c934305\" class=\"colab-df-container\">\n",
              "    <div>\n",
              "<style scoped>\n",
              "    .dataframe tbody tr th:only-of-type {\n",
              "        vertical-align: middle;\n",
              "    }\n",
              "\n",
              "    .dataframe tbody tr th {\n",
              "        vertical-align: top;\n",
              "    }\n",
              "\n",
              "    .dataframe thead th {\n",
              "        text-align: right;\n",
              "    }\n",
              "</style>\n",
              "<table border=\"1\" class=\"dataframe\">\n",
              "  <thead>\n",
              "    <tr style=\"text-align: right;\">\n",
              "      <th></th>\n",
              "      <th>step</th>\n",
              "      <th>type</th>\n",
              "      <th>amount</th>\n",
              "      <th>nameOrig</th>\n",
              "      <th>oldbalanceOrg</th>\n",
              "      <th>newbalanceOrig</th>\n",
              "      <th>nameDest</th>\n",
              "      <th>oldbalanceDest</th>\n",
              "      <th>newbalanceDest</th>\n",
              "      <th>isFraud</th>\n",
              "      <th>isFlaggedFraud</th>\n",
              "    </tr>\n",
              "  </thead>\n",
              "  <tbody>\n",
              "    <tr>\n",
              "      <th>0</th>\n",
              "      <td>1</td>\n",
              "      <td>PAYMENT</td>\n",
              "      <td>9839.64</td>\n",
              "      <td>C1231006815</td>\n",
              "      <td>170136.00</td>\n",
              "      <td>160296.36</td>\n",
              "      <td>M1979787155</td>\n",
              "      <td>0.0</td>\n",
              "      <td>0.0</td>\n",
              "      <td>0.0</td>\n",
              "      <td>0.0</td>\n",
              "    </tr>\n",
              "    <tr>\n",
              "      <th>1</th>\n",
              "      <td>1</td>\n",
              "      <td>PAYMENT</td>\n",
              "      <td>1864.28</td>\n",
              "      <td>C1666544295</td>\n",
              "      <td>21249.00</td>\n",
              "      <td>19384.72</td>\n",
              "      <td>M2044282225</td>\n",
              "      <td>0.0</td>\n",
              "      <td>0.0</td>\n",
              "      <td>0.0</td>\n",
              "      <td>0.0</td>\n",
              "    </tr>\n",
              "    <tr>\n",
              "      <th>2</th>\n",
              "      <td>1</td>\n",
              "      <td>TRANSFER</td>\n",
              "      <td>181.00</td>\n",
              "      <td>C1305486145</td>\n",
              "      <td>181.00</td>\n",
              "      <td>0.00</td>\n",
              "      <td>C553264065</td>\n",
              "      <td>0.0</td>\n",
              "      <td>0.0</td>\n",
              "      <td>1.0</td>\n",
              "      <td>0.0</td>\n",
              "    </tr>\n",
              "    <tr>\n",
              "      <th>3</th>\n",
              "      <td>1</td>\n",
              "      <td>CASH_OUT</td>\n",
              "      <td>181.00</td>\n",
              "      <td>C840083671</td>\n",
              "      <td>181.00</td>\n",
              "      <td>0.00</td>\n",
              "      <td>C38997010</td>\n",
              "      <td>21182.0</td>\n",
              "      <td>0.0</td>\n",
              "      <td>1.0</td>\n",
              "      <td>0.0</td>\n",
              "    </tr>\n",
              "    <tr>\n",
              "      <th>4</th>\n",
              "      <td>1</td>\n",
              "      <td>PAYMENT</td>\n",
              "      <td>11668.14</td>\n",
              "      <td>C2048537720</td>\n",
              "      <td>41554.00</td>\n",
              "      <td>29885.86</td>\n",
              "      <td>M1230701703</td>\n",
              "      <td>0.0</td>\n",
              "      <td>0.0</td>\n",
              "      <td>0.0</td>\n",
              "      <td>0.0</td>\n",
              "    </tr>\n",
              "    <tr>\n",
              "      <th>...</th>\n",
              "      <td>...</td>\n",
              "      <td>...</td>\n",
              "      <td>...</td>\n",
              "      <td>...</td>\n",
              "      <td>...</td>\n",
              "      <td>...</td>\n",
              "      <td>...</td>\n",
              "      <td>...</td>\n",
              "      <td>...</td>\n",
              "      <td>...</td>\n",
              "      <td>...</td>\n",
              "    </tr>\n",
              "    <tr>\n",
              "      <th>151793</th>\n",
              "      <td>12</td>\n",
              "      <td>PAYMENT</td>\n",
              "      <td>6266.61</td>\n",
              "      <td>C2121687771</td>\n",
              "      <td>734985.11</td>\n",
              "      <td>728718.50</td>\n",
              "      <td>M1046092014</td>\n",
              "      <td>0.0</td>\n",
              "      <td>0.0</td>\n",
              "      <td>0.0</td>\n",
              "      <td>0.0</td>\n",
              "    </tr>\n",
              "    <tr>\n",
              "      <th>151794</th>\n",
              "      <td>12</td>\n",
              "      <td>PAYMENT</td>\n",
              "      <td>21278.77</td>\n",
              "      <td>C1003833784</td>\n",
              "      <td>728718.50</td>\n",
              "      <td>707439.73</td>\n",
              "      <td>M2001277538</td>\n",
              "      <td>0.0</td>\n",
              "      <td>0.0</td>\n",
              "      <td>0.0</td>\n",
              "      <td>0.0</td>\n",
              "    </tr>\n",
              "    <tr>\n",
              "      <th>151795</th>\n",
              "      <td>12</td>\n",
              "      <td>PAYMENT</td>\n",
              "      <td>7131.13</td>\n",
              "      <td>C988075754</td>\n",
              "      <td>707439.73</td>\n",
              "      <td>700308.60</td>\n",
              "      <td>M1419191344</td>\n",
              "      <td>0.0</td>\n",
              "      <td>0.0</td>\n",
              "      <td>0.0</td>\n",
              "      <td>0.0</td>\n",
              "    </tr>\n",
              "    <tr>\n",
              "      <th>151796</th>\n",
              "      <td>12</td>\n",
              "      <td>PAYMENT</td>\n",
              "      <td>2870.84</td>\n",
              "      <td>C1159606163</td>\n",
              "      <td>700308.60</td>\n",
              "      <td>697437.75</td>\n",
              "      <td>M2054942544</td>\n",
              "      <td>0.0</td>\n",
              "      <td>0.0</td>\n",
              "      <td>0.0</td>\n",
              "      <td>0.0</td>\n",
              "    </tr>\n",
              "    <tr>\n",
              "      <th>151797</th>\n",
              "      <td>12</td>\n",
              "      <td>PAYMENT</td>\n",
              "      <td>17873.00</td>\n",
              "      <td>C1714697587</td>\n",
              "      <td>697437.75</td>\n",
              "      <td>679564.76</td>\n",
              "      <td>M200223521</td>\n",
              "      <td>0.0</td>\n",
              "      <td>0.0</td>\n",
              "      <td>0.0</td>\n",
              "      <td>0.0</td>\n",
              "    </tr>\n",
              "  </tbody>\n",
              "</table>\n",
              "<p>151798 rows × 11 columns</p>\n",
              "</div>\n",
              "    <div class=\"colab-df-buttons\">\n",
              "\n",
              "  <div class=\"colab-df-container\">\n",
              "    <button class=\"colab-df-convert\" onclick=\"convertToInteractive('df-d408d5b5-92ee-4b06-992b-462e1c934305')\"\n",
              "            title=\"Convert this dataframe to an interactive table.\"\n",
              "            style=\"display:none;\">\n",
              "\n",
              "  <svg xmlns=\"http://www.w3.org/2000/svg\" height=\"24px\" viewBox=\"0 -960 960 960\">\n",
              "    <path d=\"M120-120v-720h720v720H120Zm60-500h600v-160H180v160Zm220 220h160v-160H400v160Zm0 220h160v-160H400v160ZM180-400h160v-160H180v160Zm440 0h160v-160H620v160ZM180-180h160v-160H180v160Zm440 0h160v-160H620v160Z\"/>\n",
              "  </svg>\n",
              "    </button>\n",
              "\n",
              "  <style>\n",
              "    .colab-df-container {\n",
              "      display:flex;\n",
              "      gap: 12px;\n",
              "    }\n",
              "\n",
              "    .colab-df-convert {\n",
              "      background-color: #E8F0FE;\n",
              "      border: none;\n",
              "      border-radius: 50%;\n",
              "      cursor: pointer;\n",
              "      display: none;\n",
              "      fill: #1967D2;\n",
              "      height: 32px;\n",
              "      padding: 0 0 0 0;\n",
              "      width: 32px;\n",
              "    }\n",
              "\n",
              "    .colab-df-convert:hover {\n",
              "      background-color: #E2EBFA;\n",
              "      box-shadow: 0px 1px 2px rgba(60, 64, 67, 0.3), 0px 1px 3px 1px rgba(60, 64, 67, 0.15);\n",
              "      fill: #174EA6;\n",
              "    }\n",
              "\n",
              "    .colab-df-buttons div {\n",
              "      margin-bottom: 4px;\n",
              "    }\n",
              "\n",
              "    [theme=dark] .colab-df-convert {\n",
              "      background-color: #3B4455;\n",
              "      fill: #D2E3FC;\n",
              "    }\n",
              "\n",
              "    [theme=dark] .colab-df-convert:hover {\n",
              "      background-color: #434B5C;\n",
              "      box-shadow: 0px 1px 3px 1px rgba(0, 0, 0, 0.15);\n",
              "      filter: drop-shadow(0px 1px 2px rgba(0, 0, 0, 0.3));\n",
              "      fill: #FFFFFF;\n",
              "    }\n",
              "  </style>\n",
              "\n",
              "    <script>\n",
              "      const buttonEl =\n",
              "        document.querySelector('#df-d408d5b5-92ee-4b06-992b-462e1c934305 button.colab-df-convert');\n",
              "      buttonEl.style.display =\n",
              "        google.colab.kernel.accessAllowed ? 'block' : 'none';\n",
              "\n",
              "      async function convertToInteractive(key) {\n",
              "        const element = document.querySelector('#df-d408d5b5-92ee-4b06-992b-462e1c934305');\n",
              "        const dataTable =\n",
              "          await google.colab.kernel.invokeFunction('convertToInteractive',\n",
              "                                                    [key], {});\n",
              "        if (!dataTable) return;\n",
              "\n",
              "        const docLinkHtml = 'Like what you see? Visit the ' +\n",
              "          '<a target=\"_blank\" href=https://colab.research.google.com/notebooks/data_table.ipynb>data table notebook</a>'\n",
              "          + ' to learn more about interactive tables.';\n",
              "        element.innerHTML = '';\n",
              "        dataTable['output_type'] = 'display_data';\n",
              "        await google.colab.output.renderOutput(dataTable, element);\n",
              "        const docLink = document.createElement('div');\n",
              "        docLink.innerHTML = docLinkHtml;\n",
              "        element.appendChild(docLink);\n",
              "      }\n",
              "    </script>\n",
              "  </div>\n",
              "\n",
              "\n",
              "<div id=\"df-bfb875d9-4cec-478d-942d-3b4f9fafd8b8\">\n",
              "  <button class=\"colab-df-quickchart\" onclick=\"quickchart('df-bfb875d9-4cec-478d-942d-3b4f9fafd8b8')\"\n",
              "            title=\"Suggest charts\"\n",
              "            style=\"display:none;\">\n",
              "\n",
              "<svg xmlns=\"http://www.w3.org/2000/svg\" height=\"24px\"viewBox=\"0 0 24 24\"\n",
              "     width=\"24px\">\n",
              "    <g>\n",
              "        <path d=\"M19 3H5c-1.1 0-2 .9-2 2v14c0 1.1.9 2 2 2h14c1.1 0 2-.9 2-2V5c0-1.1-.9-2-2-2zM9 17H7v-7h2v7zm4 0h-2V7h2v10zm4 0h-2v-4h2v4z\"/>\n",
              "    </g>\n",
              "</svg>\n",
              "  </button>\n",
              "\n",
              "<style>\n",
              "  .colab-df-quickchart {\n",
              "      --bg-color: #E8F0FE;\n",
              "      --fill-color: #1967D2;\n",
              "      --hover-bg-color: #E2EBFA;\n",
              "      --hover-fill-color: #174EA6;\n",
              "      --disabled-fill-color: #AAA;\n",
              "      --disabled-bg-color: #DDD;\n",
              "  }\n",
              "\n",
              "  [theme=dark] .colab-df-quickchart {\n",
              "      --bg-color: #3B4455;\n",
              "      --fill-color: #D2E3FC;\n",
              "      --hover-bg-color: #434B5C;\n",
              "      --hover-fill-color: #FFFFFF;\n",
              "      --disabled-bg-color: #3B4455;\n",
              "      --disabled-fill-color: #666;\n",
              "  }\n",
              "\n",
              "  .colab-df-quickchart {\n",
              "    background-color: var(--bg-color);\n",
              "    border: none;\n",
              "    border-radius: 50%;\n",
              "    cursor: pointer;\n",
              "    display: none;\n",
              "    fill: var(--fill-color);\n",
              "    height: 32px;\n",
              "    padding: 0;\n",
              "    width: 32px;\n",
              "  }\n",
              "\n",
              "  .colab-df-quickchart:hover {\n",
              "    background-color: var(--hover-bg-color);\n",
              "    box-shadow: 0 1px 2px rgba(60, 64, 67, 0.3), 0 1px 3px 1px rgba(60, 64, 67, 0.15);\n",
              "    fill: var(--button-hover-fill-color);\n",
              "  }\n",
              "\n",
              "  .colab-df-quickchart-complete:disabled,\n",
              "  .colab-df-quickchart-complete:disabled:hover {\n",
              "    background-color: var(--disabled-bg-color);\n",
              "    fill: var(--disabled-fill-color);\n",
              "    box-shadow: none;\n",
              "  }\n",
              "\n",
              "  .colab-df-spinner {\n",
              "    border: 2px solid var(--fill-color);\n",
              "    border-color: transparent;\n",
              "    border-bottom-color: var(--fill-color);\n",
              "    animation:\n",
              "      spin 1s steps(1) infinite;\n",
              "  }\n",
              "\n",
              "  @keyframes spin {\n",
              "    0% {\n",
              "      border-color: transparent;\n",
              "      border-bottom-color: var(--fill-color);\n",
              "      border-left-color: var(--fill-color);\n",
              "    }\n",
              "    20% {\n",
              "      border-color: transparent;\n",
              "      border-left-color: var(--fill-color);\n",
              "      border-top-color: var(--fill-color);\n",
              "    }\n",
              "    30% {\n",
              "      border-color: transparent;\n",
              "      border-left-color: var(--fill-color);\n",
              "      border-top-color: var(--fill-color);\n",
              "      border-right-color: var(--fill-color);\n",
              "    }\n",
              "    40% {\n",
              "      border-color: transparent;\n",
              "      border-right-color: var(--fill-color);\n",
              "      border-top-color: var(--fill-color);\n",
              "    }\n",
              "    60% {\n",
              "      border-color: transparent;\n",
              "      border-right-color: var(--fill-color);\n",
              "    }\n",
              "    80% {\n",
              "      border-color: transparent;\n",
              "      border-right-color: var(--fill-color);\n",
              "      border-bottom-color: var(--fill-color);\n",
              "    }\n",
              "    90% {\n",
              "      border-color: transparent;\n",
              "      border-bottom-color: var(--fill-color);\n",
              "    }\n",
              "  }\n",
              "</style>\n",
              "\n",
              "  <script>\n",
              "    async function quickchart(key) {\n",
              "      const quickchartButtonEl =\n",
              "        document.querySelector('#' + key + ' button');\n",
              "      quickchartButtonEl.disabled = true;  // To prevent multiple clicks.\n",
              "      quickchartButtonEl.classList.add('colab-df-spinner');\n",
              "      try {\n",
              "        const charts = await google.colab.kernel.invokeFunction(\n",
              "            'suggestCharts', [key], {});\n",
              "      } catch (error) {\n",
              "        console.error('Error during call to suggestCharts:', error);\n",
              "      }\n",
              "      quickchartButtonEl.classList.remove('colab-df-spinner');\n",
              "      quickchartButtonEl.classList.add('colab-df-quickchart-complete');\n",
              "    }\n",
              "    (() => {\n",
              "      let quickchartButtonEl =\n",
              "        document.querySelector('#df-bfb875d9-4cec-478d-942d-3b4f9fafd8b8 button');\n",
              "      quickchartButtonEl.style.display =\n",
              "        google.colab.kernel.accessAllowed ? 'block' : 'none';\n",
              "    })();\n",
              "  </script>\n",
              "</div>\n",
              "\n",
              "    </div>\n",
              "  </div>\n"
            ],
            "application/vnd.google.colaboratory.intrinsic+json": {
              "type": "dataframe"
            }
          },
          "metadata": {},
          "execution_count": 26
        }
      ]
    },
    {
      "cell_type": "code",
      "source": [
        "count = 0\n",
        "for value in df['isFraud']:\n",
        "  if value==1:\n",
        "    count +=1\n",
        "  else:\n",
        "    pass\n",
        "print(count)"
      ],
      "metadata": {
        "colab": {
          "base_uri": "https://localhost:8080/"
        },
        "id": "bDIc_84D3ces",
        "outputId": "fe25c101-7b0c-40b3-899b-12bdda52d834"
      },
      "id": "bDIc_84D3ces",
      "execution_count": null,
      "outputs": [
        {
          "output_type": "stream",
          "name": "stdout",
          "text": [
            "131\n"
          ]
        }
      ]
    },
    {
      "cell_type": "code",
      "source": [
        "df['isFraud'].value_counts()"
      ],
      "metadata": {
        "colab": {
          "base_uri": "https://localhost:8080/",
          "height": 178
        },
        "id": "MmpspSDi34NL",
        "outputId": "549c2a02-42d8-4e2c-9fc7-33635576677b"
      },
      "id": "MmpspSDi34NL",
      "execution_count": null,
      "outputs": [
        {
          "output_type": "execute_result",
          "data": {
            "text/plain": [
              "isFraud\n",
              "0.0    151667\n",
              "1.0       131\n",
              "Name: count, dtype: int64"
            ],
            "text/html": [
              "<div>\n",
              "<style scoped>\n",
              "    .dataframe tbody tr th:only-of-type {\n",
              "        vertical-align: middle;\n",
              "    }\n",
              "\n",
              "    .dataframe tbody tr th {\n",
              "        vertical-align: top;\n",
              "    }\n",
              "\n",
              "    .dataframe thead th {\n",
              "        text-align: right;\n",
              "    }\n",
              "</style>\n",
              "<table border=\"1\" class=\"dataframe\">\n",
              "  <thead>\n",
              "    <tr style=\"text-align: right;\">\n",
              "      <th></th>\n",
              "      <th>count</th>\n",
              "    </tr>\n",
              "    <tr>\n",
              "      <th>isFraud</th>\n",
              "      <th></th>\n",
              "    </tr>\n",
              "  </thead>\n",
              "  <tbody>\n",
              "    <tr>\n",
              "      <th>0.0</th>\n",
              "      <td>151667</td>\n",
              "    </tr>\n",
              "    <tr>\n",
              "      <th>1.0</th>\n",
              "      <td>131</td>\n",
              "    </tr>\n",
              "  </tbody>\n",
              "</table>\n",
              "</div><br><label><b>dtype:</b> int64</label>"
            ]
          },
          "metadata": {},
          "execution_count": 30
        }
      ]
    },
    {
      "cell_type": "code",
      "source": [
        "df['isFlaggedFraud'].value_counts()"
      ],
      "metadata": {
        "colab": {
          "base_uri": "https://localhost:8080/",
          "height": 146
        },
        "id": "kXFyPkH34U3W",
        "outputId": "9db06eef-fbe6-439b-c712-05f1c94a43b4"
      },
      "id": "kXFyPkH34U3W",
      "execution_count": null,
      "outputs": [
        {
          "output_type": "execute_result",
          "data": {
            "text/plain": [
              "isFlaggedFraud\n",
              "0.0    151798\n",
              "Name: count, dtype: int64"
            ],
            "text/html": [
              "<div>\n",
              "<style scoped>\n",
              "    .dataframe tbody tr th:only-of-type {\n",
              "        vertical-align: middle;\n",
              "    }\n",
              "\n",
              "    .dataframe tbody tr th {\n",
              "        vertical-align: top;\n",
              "    }\n",
              "\n",
              "    .dataframe thead th {\n",
              "        text-align: right;\n",
              "    }\n",
              "</style>\n",
              "<table border=\"1\" class=\"dataframe\">\n",
              "  <thead>\n",
              "    <tr style=\"text-align: right;\">\n",
              "      <th></th>\n",
              "      <th>count</th>\n",
              "    </tr>\n",
              "    <tr>\n",
              "      <th>isFlaggedFraud</th>\n",
              "      <th></th>\n",
              "    </tr>\n",
              "  </thead>\n",
              "  <tbody>\n",
              "    <tr>\n",
              "      <th>0.0</th>\n",
              "      <td>151798</td>\n",
              "    </tr>\n",
              "  </tbody>\n",
              "</table>\n",
              "</div><br><label><b>dtype:</b> int64</label>"
            ]
          },
          "metadata": {},
          "execution_count": 31
        }
      ]
    },
    {
      "cell_type": "code",
      "source": [
        "len(df['nameOrig'].unique())"
      ],
      "metadata": {
        "colab": {
          "base_uri": "https://localhost:8080/"
        },
        "id": "sq_xSwN24_L3",
        "outputId": "52b46a1e-14f8-4ad2-801a-a2e9336d3cd7"
      },
      "id": "sq_xSwN24_L3",
      "execution_count": null,
      "outputs": [
        {
          "output_type": "execute_result",
          "data": {
            "text/plain": [
              "151796"
            ]
          },
          "metadata": {},
          "execution_count": 34
        }
      ]
    },
    {
      "cell_type": "code",
      "execution_count": null,
      "id": "8e145bf0",
      "metadata": {
        "execution": {
          "iopub.execute_input": "2023-01-19T15:44:09.491631Z",
          "iopub.status.busy": "2023-01-19T15:44:09.490809Z",
          "iopub.status.idle": "2023-01-19T15:44:11.680832Z",
          "shell.execute_reply": "2023-01-19T15:44:11.679652Z"
        },
        "papermill": {
          "duration": 2.212834,
          "end_time": "2023-01-19T15:44:11.683213",
          "exception": false,
          "start_time": "2023-01-19T15:44:09.470379",
          "status": "completed"
        },
        "tags": [],
        "colab": {
          "base_uri": "https://localhost:8080/",
          "height": 320
        },
        "id": "8e145bf0",
        "outputId": "f84469bf-56d1-4eb3-bd44-186cb22e4e6e"
      },
      "outputs": [
        {
          "output_type": "execute_result",
          "data": {
            "text/plain": [
              "                step        amount  oldbalanceOrg  newbalanceOrig  \\\n",
              "count  151799.000000  1.517990e+05   1.517990e+05    1.517980e+05   \n",
              "mean        9.333902  1.791774e+05   8.879109e+05    9.043402e+05   \n",
              "std         1.906281  3.401606e+05   2.807531e+06    2.844268e+06   \n",
              "min         1.000000  3.200000e-01   0.000000e+00    0.000000e+00   \n",
              "25%         9.000000  1.111398e+04   0.000000e+00    0.000000e+00   \n",
              "50%        10.000000  6.122687e+04   1.999000e+04    0.000000e+00   \n",
              "75%        11.000000  2.230398e+05   1.956685e+05    2.262719e+05   \n",
              "max        12.000000  1.000000e+07   3.893942e+07    3.894623e+07   \n",
              "\n",
              "       oldbalanceDest  newbalanceDest        isFraud  isFlaggedFraud  \n",
              "count    1.517980e+05    1.517980e+05  151798.000000        151798.0  \n",
              "mean     9.137641e+05    1.180076e+06       0.000863             0.0  \n",
              "std      2.384389e+06    2.705635e+06       0.029364             0.0  \n",
              "min      0.000000e+00    0.000000e+00       0.000000             0.0  \n",
              "25%      0.000000e+00    0.000000e+00       0.000000             0.0  \n",
              "50%      3.164400e+04    9.332977e+04       0.000000             0.0  \n",
              "75%      6.869059e+05    1.120989e+06       0.000000             0.0  \n",
              "max      3.490552e+07    3.894623e+07       1.000000             0.0  "
            ],
            "text/html": [
              "\n",
              "  <div id=\"df-5caec76b-14bc-45e5-a7b5-174fa8eac2ba\" class=\"colab-df-container\">\n",
              "    <div>\n",
              "<style scoped>\n",
              "    .dataframe tbody tr th:only-of-type {\n",
              "        vertical-align: middle;\n",
              "    }\n",
              "\n",
              "    .dataframe tbody tr th {\n",
              "        vertical-align: top;\n",
              "    }\n",
              "\n",
              "    .dataframe thead th {\n",
              "        text-align: right;\n",
              "    }\n",
              "</style>\n",
              "<table border=\"1\" class=\"dataframe\">\n",
              "  <thead>\n",
              "    <tr style=\"text-align: right;\">\n",
              "      <th></th>\n",
              "      <th>step</th>\n",
              "      <th>amount</th>\n",
              "      <th>oldbalanceOrg</th>\n",
              "      <th>newbalanceOrig</th>\n",
              "      <th>oldbalanceDest</th>\n",
              "      <th>newbalanceDest</th>\n",
              "      <th>isFraud</th>\n",
              "      <th>isFlaggedFraud</th>\n",
              "    </tr>\n",
              "  </thead>\n",
              "  <tbody>\n",
              "    <tr>\n",
              "      <th>count</th>\n",
              "      <td>151799.000000</td>\n",
              "      <td>1.517990e+05</td>\n",
              "      <td>1.517990e+05</td>\n",
              "      <td>1.517980e+05</td>\n",
              "      <td>1.517980e+05</td>\n",
              "      <td>1.517980e+05</td>\n",
              "      <td>151798.000000</td>\n",
              "      <td>151798.0</td>\n",
              "    </tr>\n",
              "    <tr>\n",
              "      <th>mean</th>\n",
              "      <td>9.333902</td>\n",
              "      <td>1.791774e+05</td>\n",
              "      <td>8.879109e+05</td>\n",
              "      <td>9.043402e+05</td>\n",
              "      <td>9.137641e+05</td>\n",
              "      <td>1.180076e+06</td>\n",
              "      <td>0.000863</td>\n",
              "      <td>0.0</td>\n",
              "    </tr>\n",
              "    <tr>\n",
              "      <th>std</th>\n",
              "      <td>1.906281</td>\n",
              "      <td>3.401606e+05</td>\n",
              "      <td>2.807531e+06</td>\n",
              "      <td>2.844268e+06</td>\n",
              "      <td>2.384389e+06</td>\n",
              "      <td>2.705635e+06</td>\n",
              "      <td>0.029364</td>\n",
              "      <td>0.0</td>\n",
              "    </tr>\n",
              "    <tr>\n",
              "      <th>min</th>\n",
              "      <td>1.000000</td>\n",
              "      <td>3.200000e-01</td>\n",
              "      <td>0.000000e+00</td>\n",
              "      <td>0.000000e+00</td>\n",
              "      <td>0.000000e+00</td>\n",
              "      <td>0.000000e+00</td>\n",
              "      <td>0.000000</td>\n",
              "      <td>0.0</td>\n",
              "    </tr>\n",
              "    <tr>\n",
              "      <th>25%</th>\n",
              "      <td>9.000000</td>\n",
              "      <td>1.111398e+04</td>\n",
              "      <td>0.000000e+00</td>\n",
              "      <td>0.000000e+00</td>\n",
              "      <td>0.000000e+00</td>\n",
              "      <td>0.000000e+00</td>\n",
              "      <td>0.000000</td>\n",
              "      <td>0.0</td>\n",
              "    </tr>\n",
              "    <tr>\n",
              "      <th>50%</th>\n",
              "      <td>10.000000</td>\n",
              "      <td>6.122687e+04</td>\n",
              "      <td>1.999000e+04</td>\n",
              "      <td>0.000000e+00</td>\n",
              "      <td>3.164400e+04</td>\n",
              "      <td>9.332977e+04</td>\n",
              "      <td>0.000000</td>\n",
              "      <td>0.0</td>\n",
              "    </tr>\n",
              "    <tr>\n",
              "      <th>75%</th>\n",
              "      <td>11.000000</td>\n",
              "      <td>2.230398e+05</td>\n",
              "      <td>1.956685e+05</td>\n",
              "      <td>2.262719e+05</td>\n",
              "      <td>6.869059e+05</td>\n",
              "      <td>1.120989e+06</td>\n",
              "      <td>0.000000</td>\n",
              "      <td>0.0</td>\n",
              "    </tr>\n",
              "    <tr>\n",
              "      <th>max</th>\n",
              "      <td>12.000000</td>\n",
              "      <td>1.000000e+07</td>\n",
              "      <td>3.893942e+07</td>\n",
              "      <td>3.894623e+07</td>\n",
              "      <td>3.490552e+07</td>\n",
              "      <td>3.894623e+07</td>\n",
              "      <td>1.000000</td>\n",
              "      <td>0.0</td>\n",
              "    </tr>\n",
              "  </tbody>\n",
              "</table>\n",
              "</div>\n",
              "    <div class=\"colab-df-buttons\">\n",
              "\n",
              "  <div class=\"colab-df-container\">\n",
              "    <button class=\"colab-df-convert\" onclick=\"convertToInteractive('df-5caec76b-14bc-45e5-a7b5-174fa8eac2ba')\"\n",
              "            title=\"Convert this dataframe to an interactive table.\"\n",
              "            style=\"display:none;\">\n",
              "\n",
              "  <svg xmlns=\"http://www.w3.org/2000/svg\" height=\"24px\" viewBox=\"0 -960 960 960\">\n",
              "    <path d=\"M120-120v-720h720v720H120Zm60-500h600v-160H180v160Zm220 220h160v-160H400v160Zm0 220h160v-160H400v160ZM180-400h160v-160H180v160Zm440 0h160v-160H620v160ZM180-180h160v-160H180v160Zm440 0h160v-160H620v160Z\"/>\n",
              "  </svg>\n",
              "    </button>\n",
              "\n",
              "  <style>\n",
              "    .colab-df-container {\n",
              "      display:flex;\n",
              "      gap: 12px;\n",
              "    }\n",
              "\n",
              "    .colab-df-convert {\n",
              "      background-color: #E8F0FE;\n",
              "      border: none;\n",
              "      border-radius: 50%;\n",
              "      cursor: pointer;\n",
              "      display: none;\n",
              "      fill: #1967D2;\n",
              "      height: 32px;\n",
              "      padding: 0 0 0 0;\n",
              "      width: 32px;\n",
              "    }\n",
              "\n",
              "    .colab-df-convert:hover {\n",
              "      background-color: #E2EBFA;\n",
              "      box-shadow: 0px 1px 2px rgba(60, 64, 67, 0.3), 0px 1px 3px 1px rgba(60, 64, 67, 0.15);\n",
              "      fill: #174EA6;\n",
              "    }\n",
              "\n",
              "    .colab-df-buttons div {\n",
              "      margin-bottom: 4px;\n",
              "    }\n",
              "\n",
              "    [theme=dark] .colab-df-convert {\n",
              "      background-color: #3B4455;\n",
              "      fill: #D2E3FC;\n",
              "    }\n",
              "\n",
              "    [theme=dark] .colab-df-convert:hover {\n",
              "      background-color: #434B5C;\n",
              "      box-shadow: 0px 1px 3px 1px rgba(0, 0, 0, 0.15);\n",
              "      filter: drop-shadow(0px 1px 2px rgba(0, 0, 0, 0.3));\n",
              "      fill: #FFFFFF;\n",
              "    }\n",
              "  </style>\n",
              "\n",
              "    <script>\n",
              "      const buttonEl =\n",
              "        document.querySelector('#df-5caec76b-14bc-45e5-a7b5-174fa8eac2ba button.colab-df-convert');\n",
              "      buttonEl.style.display =\n",
              "        google.colab.kernel.accessAllowed ? 'block' : 'none';\n",
              "\n",
              "      async function convertToInteractive(key) {\n",
              "        const element = document.querySelector('#df-5caec76b-14bc-45e5-a7b5-174fa8eac2ba');\n",
              "        const dataTable =\n",
              "          await google.colab.kernel.invokeFunction('convertToInteractive',\n",
              "                                                    [key], {});\n",
              "        if (!dataTable) return;\n",
              "\n",
              "        const docLinkHtml = 'Like what you see? Visit the ' +\n",
              "          '<a target=\"_blank\" href=https://colab.research.google.com/notebooks/data_table.ipynb>data table notebook</a>'\n",
              "          + ' to learn more about interactive tables.';\n",
              "        element.innerHTML = '';\n",
              "        dataTable['output_type'] = 'display_data';\n",
              "        await google.colab.output.renderOutput(dataTable, element);\n",
              "        const docLink = document.createElement('div');\n",
              "        docLink.innerHTML = docLinkHtml;\n",
              "        element.appendChild(docLink);\n",
              "      }\n",
              "    </script>\n",
              "  </div>\n",
              "\n",
              "\n",
              "<div id=\"df-bfcf6ae0-f5f5-4fbb-80cf-837ef136ed88\">\n",
              "  <button class=\"colab-df-quickchart\" onclick=\"quickchart('df-bfcf6ae0-f5f5-4fbb-80cf-837ef136ed88')\"\n",
              "            title=\"Suggest charts\"\n",
              "            style=\"display:none;\">\n",
              "\n",
              "<svg xmlns=\"http://www.w3.org/2000/svg\" height=\"24px\"viewBox=\"0 0 24 24\"\n",
              "     width=\"24px\">\n",
              "    <g>\n",
              "        <path d=\"M19 3H5c-1.1 0-2 .9-2 2v14c0 1.1.9 2 2 2h14c1.1 0 2-.9 2-2V5c0-1.1-.9-2-2-2zM9 17H7v-7h2v7zm4 0h-2V7h2v10zm4 0h-2v-4h2v4z\"/>\n",
              "    </g>\n",
              "</svg>\n",
              "  </button>\n",
              "\n",
              "<style>\n",
              "  .colab-df-quickchart {\n",
              "      --bg-color: #E8F0FE;\n",
              "      --fill-color: #1967D2;\n",
              "      --hover-bg-color: #E2EBFA;\n",
              "      --hover-fill-color: #174EA6;\n",
              "      --disabled-fill-color: #AAA;\n",
              "      --disabled-bg-color: #DDD;\n",
              "  }\n",
              "\n",
              "  [theme=dark] .colab-df-quickchart {\n",
              "      --bg-color: #3B4455;\n",
              "      --fill-color: #D2E3FC;\n",
              "      --hover-bg-color: #434B5C;\n",
              "      --hover-fill-color: #FFFFFF;\n",
              "      --disabled-bg-color: #3B4455;\n",
              "      --disabled-fill-color: #666;\n",
              "  }\n",
              "\n",
              "  .colab-df-quickchart {\n",
              "    background-color: var(--bg-color);\n",
              "    border: none;\n",
              "    border-radius: 50%;\n",
              "    cursor: pointer;\n",
              "    display: none;\n",
              "    fill: var(--fill-color);\n",
              "    height: 32px;\n",
              "    padding: 0;\n",
              "    width: 32px;\n",
              "  }\n",
              "\n",
              "  .colab-df-quickchart:hover {\n",
              "    background-color: var(--hover-bg-color);\n",
              "    box-shadow: 0 1px 2px rgba(60, 64, 67, 0.3), 0 1px 3px 1px rgba(60, 64, 67, 0.15);\n",
              "    fill: var(--button-hover-fill-color);\n",
              "  }\n",
              "\n",
              "  .colab-df-quickchart-complete:disabled,\n",
              "  .colab-df-quickchart-complete:disabled:hover {\n",
              "    background-color: var(--disabled-bg-color);\n",
              "    fill: var(--disabled-fill-color);\n",
              "    box-shadow: none;\n",
              "  }\n",
              "\n",
              "  .colab-df-spinner {\n",
              "    border: 2px solid var(--fill-color);\n",
              "    border-color: transparent;\n",
              "    border-bottom-color: var(--fill-color);\n",
              "    animation:\n",
              "      spin 1s steps(1) infinite;\n",
              "  }\n",
              "\n",
              "  @keyframes spin {\n",
              "    0% {\n",
              "      border-color: transparent;\n",
              "      border-bottom-color: var(--fill-color);\n",
              "      border-left-color: var(--fill-color);\n",
              "    }\n",
              "    20% {\n",
              "      border-color: transparent;\n",
              "      border-left-color: var(--fill-color);\n",
              "      border-top-color: var(--fill-color);\n",
              "    }\n",
              "    30% {\n",
              "      border-color: transparent;\n",
              "      border-left-color: var(--fill-color);\n",
              "      border-top-color: var(--fill-color);\n",
              "      border-right-color: var(--fill-color);\n",
              "    }\n",
              "    40% {\n",
              "      border-color: transparent;\n",
              "      border-right-color: var(--fill-color);\n",
              "      border-top-color: var(--fill-color);\n",
              "    }\n",
              "    60% {\n",
              "      border-color: transparent;\n",
              "      border-right-color: var(--fill-color);\n",
              "    }\n",
              "    80% {\n",
              "      border-color: transparent;\n",
              "      border-right-color: var(--fill-color);\n",
              "      border-bottom-color: var(--fill-color);\n",
              "    }\n",
              "    90% {\n",
              "      border-color: transparent;\n",
              "      border-bottom-color: var(--fill-color);\n",
              "    }\n",
              "  }\n",
              "</style>\n",
              "\n",
              "  <script>\n",
              "    async function quickchart(key) {\n",
              "      const quickchartButtonEl =\n",
              "        document.querySelector('#' + key + ' button');\n",
              "      quickchartButtonEl.disabled = true;  // To prevent multiple clicks.\n",
              "      quickchartButtonEl.classList.add('colab-df-spinner');\n",
              "      try {\n",
              "        const charts = await google.colab.kernel.invokeFunction(\n",
              "            'suggestCharts', [key], {});\n",
              "      } catch (error) {\n",
              "        console.error('Error during call to suggestCharts:', error);\n",
              "      }\n",
              "      quickchartButtonEl.classList.remove('colab-df-spinner');\n",
              "      quickchartButtonEl.classList.add('colab-df-quickchart-complete');\n",
              "    }\n",
              "    (() => {\n",
              "      let quickchartButtonEl =\n",
              "        document.querySelector('#df-bfcf6ae0-f5f5-4fbb-80cf-837ef136ed88 button');\n",
              "      quickchartButtonEl.style.display =\n",
              "        google.colab.kernel.accessAllowed ? 'block' : 'none';\n",
              "    })();\n",
              "  </script>\n",
              "</div>\n",
              "\n",
              "    </div>\n",
              "  </div>\n"
            ],
            "application/vnd.google.colaboratory.intrinsic+json": {
              "type": "dataframe",
              "summary": "{\n  \"name\": \"df\",\n  \"rows\": 8,\n  \"fields\": [\n    {\n      \"column\": \"step\",\n      \"properties\": {\n        \"dtype\": \"number\",\n        \"std\": 53666.31175207249,\n        \"min\": 1.0,\n        \"max\": 151799.0,\n        \"num_unique_values\": 8,\n        \"samples\": [\n          9.33390206786606,\n          10.0,\n          151799.0\n        ],\n        \"semantic_type\": \"\",\n        \"description\": \"\"\n      }\n    },\n    {\n      \"column\": \"amount\",\n      \"properties\": {\n        \"dtype\": \"number\",\n        \"std\": 3488581.6029628613,\n        \"min\": 0.32,\n        \"max\": 10000000.0,\n        \"num_unique_values\": 8,\n        \"samples\": [\n          179177.43910737225,\n          61226.87,\n          151799.0\n        ],\n        \"semantic_type\": \"\",\n        \"description\": \"\"\n      }\n    },\n    {\n      \"column\": \"oldbalanceOrg\",\n      \"properties\": {\n        \"dtype\": \"number\",\n        \"std\": 13595488.268227775,\n        \"min\": 0.0,\n        \"max\": 38939424.03,\n        \"num_unique_values\": 7,\n        \"samples\": [\n          151799.0,\n          887910.9180927412,\n          195668.51\n        ],\n        \"semantic_type\": \"\",\n        \"description\": \"\"\n      }\n    },\n    {\n      \"column\": \"newbalanceOrig\",\n      \"properties\": {\n        \"dtype\": \"number\",\n        \"std\": 13595595.629628144,\n        \"min\": 0.0,\n        \"max\": 38946233.02,\n        \"num_unique_values\": 6,\n        \"samples\": [\n          151798.0,\n          904340.1966438951,\n          38946233.02\n        ],\n        \"semantic_type\": \"\",\n        \"description\": \"\"\n      }\n    },\n    {\n      \"column\": \"oldbalanceDest\",\n      \"properties\": {\n        \"dtype\": \"number\",\n        \"std\": 12157092.241830016,\n        \"min\": 0.0,\n        \"max\": 34905522.4,\n        \"num_unique_values\": 7,\n        \"samples\": [\n          151798.0,\n          913764.0980479979,\n          686905.9125000001\n        ],\n        \"semantic_type\": \"\",\n        \"description\": \"\"\n      }\n    },\n    {\n      \"column\": \"newbalanceDest\",\n      \"properties\": {\n        \"dtype\": \"number\",\n        \"std\": 13536336.843600431,\n        \"min\": 0.0,\n        \"max\": 38946233.02,\n        \"num_unique_values\": 7,\n        \"samples\": [\n          151798.0,\n          1180076.1191078273,\n          1120988.54\n        ],\n        \"semantic_type\": \"\",\n        \"description\": \"\"\n      }\n    },\n    {\n      \"column\": \"isFraud\",\n      \"properties\": {\n        \"dtype\": \"number\",\n        \"std\": 53668.64555208268,\n        \"min\": 0.0,\n        \"max\": 151798.0,\n        \"num_unique_values\": 5,\n        \"samples\": [\n          0.0008629889721867218,\n          1.0,\n          0.029364092059283562\n        ],\n        \"semantic_type\": \"\",\n        \"description\": \"\"\n      }\n    },\n    {\n      \"column\": \"isFlaggedFraud\",\n      \"properties\": {\n        \"dtype\": \"number\",\n        \"std\": 53668.69758527777,\n        \"min\": 0.0,\n        \"max\": 151798.0,\n        \"num_unique_values\": 2,\n        \"samples\": [\n          0.0,\n          151798.0\n        ],\n        \"semantic_type\": \"\",\n        \"description\": \"\"\n      }\n    }\n  ]\n}"
            }
          },
          "metadata": {},
          "execution_count": 6
        }
      ],
      "source": [
        "df.describe()"
      ]
    },
    {
      "cell_type": "code",
      "source": [
        "!pip install scipy\n",
        "!pip install seaborn\n",
        "!pip install sklearn\n",
        "!pip install matplotlib\n",
        "!pip install statsmodels\n",
        "!pip install imblearn\n",
        "!pip install imbalanced-learn\n",
        "!pip install mlxtend\n",
        "!pip install sklearn\n",
        "!pip install xgboost\n",
        "!pip install lightgbm\n",
        "!pip install catboost"
      ],
      "metadata": {
        "colab": {
          "base_uri": "https://localhost:8080/"
        },
        "id": "BvhEO1G5om1j",
        "outputId": "0d9dd474-f969-4889-d476-6c220455f13b"
      },
      "id": "BvhEO1G5om1j",
      "execution_count": null,
      "outputs": [
        {
          "output_type": "stream",
          "name": "stdout",
          "text": [
            "Requirement already satisfied: scipy in /usr/local/lib/python3.10/dist-packages (1.13.1)\n",
            "Requirement already satisfied: numpy<2.3,>=1.22.4 in /usr/local/lib/python3.10/dist-packages (from scipy) (1.26.4)\n",
            "Requirement already satisfied: seaborn in /usr/local/lib/python3.10/dist-packages (0.13.1)\n",
            "Requirement already satisfied: numpy!=1.24.0,>=1.20 in /usr/local/lib/python3.10/dist-packages (from seaborn) (1.26.4)\n",
            "Requirement already satisfied: pandas>=1.2 in /usr/local/lib/python3.10/dist-packages (from seaborn) (2.1.4)\n",
            "Requirement already satisfied: matplotlib!=3.6.1,>=3.4 in /usr/local/lib/python3.10/dist-packages (from seaborn) (3.7.1)\n",
            "Requirement already satisfied: contourpy>=1.0.1 in /usr/local/lib/python3.10/dist-packages (from matplotlib!=3.6.1,>=3.4->seaborn) (1.3.0)\n",
            "Requirement already satisfied: cycler>=0.10 in /usr/local/lib/python3.10/dist-packages (from matplotlib!=3.6.1,>=3.4->seaborn) (0.12.1)\n",
            "Requirement already satisfied: fonttools>=4.22.0 in /usr/local/lib/python3.10/dist-packages (from matplotlib!=3.6.1,>=3.4->seaborn) (4.53.1)\n",
            "Requirement already satisfied: kiwisolver>=1.0.1 in /usr/local/lib/python3.10/dist-packages (from matplotlib!=3.6.1,>=3.4->seaborn) (1.4.7)\n",
            "Requirement already satisfied: packaging>=20.0 in /usr/local/lib/python3.10/dist-packages (from matplotlib!=3.6.1,>=3.4->seaborn) (24.1)\n",
            "Requirement already satisfied: pillow>=6.2.0 in /usr/local/lib/python3.10/dist-packages (from matplotlib!=3.6.1,>=3.4->seaborn) (10.4.0)\n",
            "Requirement already satisfied: pyparsing>=2.3.1 in /usr/local/lib/python3.10/dist-packages (from matplotlib!=3.6.1,>=3.4->seaborn) (3.1.4)\n",
            "Requirement already satisfied: python-dateutil>=2.7 in /usr/local/lib/python3.10/dist-packages (from matplotlib!=3.6.1,>=3.4->seaborn) (2.8.2)\n",
            "Requirement already satisfied: pytz>=2020.1 in /usr/local/lib/python3.10/dist-packages (from pandas>=1.2->seaborn) (2024.2)\n",
            "Requirement already satisfied: tzdata>=2022.1 in /usr/local/lib/python3.10/dist-packages (from pandas>=1.2->seaborn) (2024.1)\n",
            "Requirement already satisfied: six>=1.5 in /usr/local/lib/python3.10/dist-packages (from python-dateutil>=2.7->matplotlib!=3.6.1,>=3.4->seaborn) (1.16.0)\n",
            "Collecting sklearn\n",
            "  Downloading sklearn-0.0.post12.tar.gz (2.6 kB)\n",
            "  \u001b[1;31merror\u001b[0m: \u001b[1msubprocess-exited-with-error\u001b[0m\n",
            "  \n",
            "  \u001b[31m×\u001b[0m \u001b[32mpython setup.py egg_info\u001b[0m did not run successfully.\n",
            "  \u001b[31m│\u001b[0m exit code: \u001b[1;36m1\u001b[0m\n",
            "  \u001b[31m╰─>\u001b[0m See above for output.\n",
            "  \n",
            "  \u001b[1;35mnote\u001b[0m: This error originates from a subprocess, and is likely not a problem with pip.\n",
            "  Preparing metadata (setup.py) ... \u001b[?25l\u001b[?25herror\n",
            "\u001b[1;31merror\u001b[0m: \u001b[1mmetadata-generation-failed\u001b[0m\n",
            "\n",
            "\u001b[31m×\u001b[0m Encountered error while generating package metadata.\n",
            "\u001b[31m╰─>\u001b[0m See above for output.\n",
            "\n",
            "\u001b[1;35mnote\u001b[0m: This is an issue with the package mentioned above, not pip.\n",
            "\u001b[1;36mhint\u001b[0m: See above for details.\n",
            "Requirement already satisfied: matplotlib in /usr/local/lib/python3.10/dist-packages (3.7.1)\n",
            "Requirement already satisfied: contourpy>=1.0.1 in /usr/local/lib/python3.10/dist-packages (from matplotlib) (1.3.0)\n",
            "Requirement already satisfied: cycler>=0.10 in /usr/local/lib/python3.10/dist-packages (from matplotlib) (0.12.1)\n",
            "Requirement already satisfied: fonttools>=4.22.0 in /usr/local/lib/python3.10/dist-packages (from matplotlib) (4.53.1)\n",
            "Requirement already satisfied: kiwisolver>=1.0.1 in /usr/local/lib/python3.10/dist-packages (from matplotlib) (1.4.7)\n",
            "Requirement already satisfied: numpy>=1.20 in /usr/local/lib/python3.10/dist-packages (from matplotlib) (1.26.4)\n",
            "Requirement already satisfied: packaging>=20.0 in /usr/local/lib/python3.10/dist-packages (from matplotlib) (24.1)\n",
            "Requirement already satisfied: pillow>=6.2.0 in /usr/local/lib/python3.10/dist-packages (from matplotlib) (10.4.0)\n",
            "Requirement already satisfied: pyparsing>=2.3.1 in /usr/local/lib/python3.10/dist-packages (from matplotlib) (3.1.4)\n",
            "Requirement already satisfied: python-dateutil>=2.7 in /usr/local/lib/python3.10/dist-packages (from matplotlib) (2.8.2)\n",
            "Requirement already satisfied: six>=1.5 in /usr/local/lib/python3.10/dist-packages (from python-dateutil>=2.7->matplotlib) (1.16.0)\n",
            "Requirement already satisfied: statsmodels in /usr/local/lib/python3.10/dist-packages (0.14.3)\n",
            "Requirement already satisfied: numpy<3,>=1.22.3 in /usr/local/lib/python3.10/dist-packages (from statsmodels) (1.26.4)\n",
            "Requirement already satisfied: scipy!=1.9.2,>=1.8 in /usr/local/lib/python3.10/dist-packages (from statsmodels) (1.13.1)\n",
            "Requirement already satisfied: pandas!=2.1.0,>=1.4 in /usr/local/lib/python3.10/dist-packages (from statsmodels) (2.1.4)\n",
            "Requirement already satisfied: patsy>=0.5.6 in /usr/local/lib/python3.10/dist-packages (from statsmodels) (0.5.6)\n",
            "Requirement already satisfied: packaging>=21.3 in /usr/local/lib/python3.10/dist-packages (from statsmodels) (24.1)\n",
            "Requirement already satisfied: python-dateutil>=2.8.2 in /usr/local/lib/python3.10/dist-packages (from pandas!=2.1.0,>=1.4->statsmodels) (2.8.2)\n",
            "Requirement already satisfied: pytz>=2020.1 in /usr/local/lib/python3.10/dist-packages (from pandas!=2.1.0,>=1.4->statsmodels) (2024.2)\n",
            "Requirement already satisfied: tzdata>=2022.1 in /usr/local/lib/python3.10/dist-packages (from pandas!=2.1.0,>=1.4->statsmodels) (2024.1)\n",
            "Requirement already satisfied: six in /usr/local/lib/python3.10/dist-packages (from patsy>=0.5.6->statsmodels) (1.16.0)\n",
            "Collecting imblearn\n",
            "  Downloading imblearn-0.0-py2.py3-none-any.whl.metadata (355 bytes)\n",
            "Requirement already satisfied: imbalanced-learn in /usr/local/lib/python3.10/dist-packages (from imblearn) (0.12.3)\n",
            "Requirement already satisfied: numpy>=1.17.3 in /usr/local/lib/python3.10/dist-packages (from imbalanced-learn->imblearn) (1.26.4)\n",
            "Requirement already satisfied: scipy>=1.5.0 in /usr/local/lib/python3.10/dist-packages (from imbalanced-learn->imblearn) (1.13.1)\n",
            "Requirement already satisfied: scikit-learn>=1.0.2 in /usr/local/lib/python3.10/dist-packages (from imbalanced-learn->imblearn) (1.5.2)\n",
            "Requirement already satisfied: joblib>=1.1.1 in /usr/local/lib/python3.10/dist-packages (from imbalanced-learn->imblearn) (1.4.2)\n",
            "Requirement already satisfied: threadpoolctl>=2.0.0 in /usr/local/lib/python3.10/dist-packages (from imbalanced-learn->imblearn) (3.5.0)\n",
            "Downloading imblearn-0.0-py2.py3-none-any.whl (1.9 kB)\n",
            "Installing collected packages: imblearn\n",
            "Successfully installed imblearn-0.0\n",
            "Requirement already satisfied: imbalanced-learn in /usr/local/lib/python3.10/dist-packages (0.12.3)\n",
            "Requirement already satisfied: numpy>=1.17.3 in /usr/local/lib/python3.10/dist-packages (from imbalanced-learn) (1.26.4)\n",
            "Requirement already satisfied: scipy>=1.5.0 in /usr/local/lib/python3.10/dist-packages (from imbalanced-learn) (1.13.1)\n",
            "Requirement already satisfied: scikit-learn>=1.0.2 in /usr/local/lib/python3.10/dist-packages (from imbalanced-learn) (1.5.2)\n",
            "Requirement already satisfied: joblib>=1.1.1 in /usr/local/lib/python3.10/dist-packages (from imbalanced-learn) (1.4.2)\n",
            "Requirement already satisfied: threadpoolctl>=2.0.0 in /usr/local/lib/python3.10/dist-packages (from imbalanced-learn) (3.5.0)\n",
            "Requirement already satisfied: mlxtend in /usr/local/lib/python3.10/dist-packages (0.23.1)\n",
            "Requirement already satisfied: scipy>=1.2.1 in /usr/local/lib/python3.10/dist-packages (from mlxtend) (1.13.1)\n",
            "Requirement already satisfied: numpy>=1.16.2 in /usr/local/lib/python3.10/dist-packages (from mlxtend) (1.26.4)\n",
            "Requirement already satisfied: pandas>=0.24.2 in /usr/local/lib/python3.10/dist-packages (from mlxtend) (2.1.4)\n",
            "Requirement already satisfied: scikit-learn>=1.0.2 in /usr/local/lib/python3.10/dist-packages (from mlxtend) (1.5.2)\n",
            "Requirement already satisfied: matplotlib>=3.0.0 in /usr/local/lib/python3.10/dist-packages (from mlxtend) (3.7.1)\n",
            "Requirement already satisfied: joblib>=0.13.2 in /usr/local/lib/python3.10/dist-packages (from mlxtend) (1.4.2)\n",
            "Requirement already satisfied: contourpy>=1.0.1 in /usr/local/lib/python3.10/dist-packages (from matplotlib>=3.0.0->mlxtend) (1.3.0)\n",
            "Requirement already satisfied: cycler>=0.10 in /usr/local/lib/python3.10/dist-packages (from matplotlib>=3.0.0->mlxtend) (0.12.1)\n",
            "Requirement already satisfied: fonttools>=4.22.0 in /usr/local/lib/python3.10/dist-packages (from matplotlib>=3.0.0->mlxtend) (4.53.1)\n",
            "Requirement already satisfied: kiwisolver>=1.0.1 in /usr/local/lib/python3.10/dist-packages (from matplotlib>=3.0.0->mlxtend) (1.4.7)\n",
            "Requirement already satisfied: packaging>=20.0 in /usr/local/lib/python3.10/dist-packages (from matplotlib>=3.0.0->mlxtend) (24.1)\n",
            "Requirement already satisfied: pillow>=6.2.0 in /usr/local/lib/python3.10/dist-packages (from matplotlib>=3.0.0->mlxtend) (10.4.0)\n",
            "Requirement already satisfied: pyparsing>=2.3.1 in /usr/local/lib/python3.10/dist-packages (from matplotlib>=3.0.0->mlxtend) (3.1.4)\n",
            "Requirement already satisfied: python-dateutil>=2.7 in /usr/local/lib/python3.10/dist-packages (from matplotlib>=3.0.0->mlxtend) (2.8.2)\n",
            "Requirement already satisfied: pytz>=2020.1 in /usr/local/lib/python3.10/dist-packages (from pandas>=0.24.2->mlxtend) (2024.2)\n",
            "Requirement already satisfied: tzdata>=2022.1 in /usr/local/lib/python3.10/dist-packages (from pandas>=0.24.2->mlxtend) (2024.1)\n",
            "Requirement already satisfied: threadpoolctl>=3.1.0 in /usr/local/lib/python3.10/dist-packages (from scikit-learn>=1.0.2->mlxtend) (3.5.0)\n",
            "Requirement already satisfied: six>=1.5 in /usr/local/lib/python3.10/dist-packages (from python-dateutil>=2.7->matplotlib>=3.0.0->mlxtend) (1.16.0)\n",
            "Collecting sklearn\n",
            "  Using cached sklearn-0.0.post12.tar.gz (2.6 kB)\n",
            "  \u001b[1;31merror\u001b[0m: \u001b[1msubprocess-exited-with-error\u001b[0m\n",
            "  \n",
            "  \u001b[31m×\u001b[0m \u001b[32mpython setup.py egg_info\u001b[0m did not run successfully.\n",
            "  \u001b[31m│\u001b[0m exit code: \u001b[1;36m1\u001b[0m\n",
            "  \u001b[31m╰─>\u001b[0m See above for output.\n",
            "  \n",
            "  \u001b[1;35mnote\u001b[0m: This error originates from a subprocess, and is likely not a problem with pip.\n",
            "  Preparing metadata (setup.py) ... \u001b[?25l\u001b[?25herror\n",
            "\u001b[1;31merror\u001b[0m: \u001b[1mmetadata-generation-failed\u001b[0m\n",
            "\n",
            "\u001b[31m×\u001b[0m Encountered error while generating package metadata.\n",
            "\u001b[31m╰─>\u001b[0m See above for output.\n",
            "\n",
            "\u001b[1;35mnote\u001b[0m: This is an issue with the package mentioned above, not pip.\n",
            "\u001b[1;36mhint\u001b[0m: See above for details.\n",
            "Requirement already satisfied: xgboost in /usr/local/lib/python3.10/dist-packages (2.1.1)\n",
            "Requirement already satisfied: numpy in /usr/local/lib/python3.10/dist-packages (from xgboost) (1.26.4)\n",
            "Requirement already satisfied: nvidia-nccl-cu12 in /usr/local/lib/python3.10/dist-packages (from xgboost) (2.23.4)\n",
            "Requirement already satisfied: scipy in /usr/local/lib/python3.10/dist-packages (from xgboost) (1.13.1)\n",
            "Requirement already satisfied: lightgbm in /usr/local/lib/python3.10/dist-packages (4.5.0)\n",
            "Requirement already satisfied: numpy>=1.17.0 in /usr/local/lib/python3.10/dist-packages (from lightgbm) (1.26.4)\n",
            "Requirement already satisfied: scipy in /usr/local/lib/python3.10/dist-packages (from lightgbm) (1.13.1)\n",
            "Collecting catboost\n",
            "  Downloading catboost-1.2.7-cp310-cp310-manylinux2014_x86_64.whl.metadata (1.2 kB)\n",
            "Requirement already satisfied: graphviz in /usr/local/lib/python3.10/dist-packages (from catboost) (0.20.3)\n",
            "Requirement already satisfied: matplotlib in /usr/local/lib/python3.10/dist-packages (from catboost) (3.7.1)\n",
            "Requirement already satisfied: numpy<2.0,>=1.16.0 in /usr/local/lib/python3.10/dist-packages (from catboost) (1.26.4)\n",
            "Requirement already satisfied: pandas>=0.24 in /usr/local/lib/python3.10/dist-packages (from catboost) (2.1.4)\n",
            "Requirement already satisfied: scipy in /usr/local/lib/python3.10/dist-packages (from catboost) (1.13.1)\n",
            "Requirement already satisfied: plotly in /usr/local/lib/python3.10/dist-packages (from catboost) (5.24.1)\n",
            "Requirement already satisfied: six in /usr/local/lib/python3.10/dist-packages (from catboost) (1.16.0)\n",
            "Requirement already satisfied: python-dateutil>=2.8.2 in /usr/local/lib/python3.10/dist-packages (from pandas>=0.24->catboost) (2.8.2)\n",
            "Requirement already satisfied: pytz>=2020.1 in /usr/local/lib/python3.10/dist-packages (from pandas>=0.24->catboost) (2024.2)\n",
            "Requirement already satisfied: tzdata>=2022.1 in /usr/local/lib/python3.10/dist-packages (from pandas>=0.24->catboost) (2024.1)\n",
            "Requirement already satisfied: contourpy>=1.0.1 in /usr/local/lib/python3.10/dist-packages (from matplotlib->catboost) (1.3.0)\n",
            "Requirement already satisfied: cycler>=0.10 in /usr/local/lib/python3.10/dist-packages (from matplotlib->catboost) (0.12.1)\n",
            "Requirement already satisfied: fonttools>=4.22.0 in /usr/local/lib/python3.10/dist-packages (from matplotlib->catboost) (4.53.1)\n",
            "Requirement already satisfied: kiwisolver>=1.0.1 in /usr/local/lib/python3.10/dist-packages (from matplotlib->catboost) (1.4.7)\n",
            "Requirement already satisfied: packaging>=20.0 in /usr/local/lib/python3.10/dist-packages (from matplotlib->catboost) (24.1)\n",
            "Requirement already satisfied: pillow>=6.2.0 in /usr/local/lib/python3.10/dist-packages (from matplotlib->catboost) (10.4.0)\n",
            "Requirement already satisfied: pyparsing>=2.3.1 in /usr/local/lib/python3.10/dist-packages (from matplotlib->catboost) (3.1.4)\n",
            "Requirement already satisfied: tenacity>=6.2.0 in /usr/local/lib/python3.10/dist-packages (from plotly->catboost) (9.0.0)\n",
            "Downloading catboost-1.2.7-cp310-cp310-manylinux2014_x86_64.whl (98.7 MB)\n",
            "\u001b[2K   \u001b[90m━━━━━━━━━━━━━━━━━━━━━━━━━━━━━━━━━━━━━━━━\u001b[0m \u001b[32m98.7/98.7 MB\u001b[0m \u001b[31m8.5 MB/s\u001b[0m eta \u001b[36m0:00:00\u001b[0m\n",
            "\u001b[?25hInstalling collected packages: catboost\n",
            "Successfully installed catboost-1.2.7\n"
          ]
        }
      ]
    },
    {
      "cell_type": "code",
      "execution_count": null,
      "id": "058448f3",
      "metadata": {
        "execution": {
          "iopub.execute_input": "2023-01-19T15:44:11.723691Z",
          "iopub.status.busy": "2023-01-19T15:44:11.722986Z",
          "iopub.status.idle": "2023-01-19T15:44:13.267809Z",
          "shell.execute_reply": "2023-01-19T15:44:13.266643Z"
        },
        "papermill": {
          "duration": 1.568247,
          "end_time": "2023-01-19T15:44:13.270814",
          "exception": false,
          "start_time": "2023-01-19T15:44:11.702567",
          "status": "completed"
        },
        "tags": [],
        "id": "058448f3"
      },
      "outputs": [],
      "source": [
        "import numpy as np\n",
        "import pandas as pd\n",
        "import seaborn as sns\n",
        "import matplotlib.ticker as mtick\n",
        "import matplotlib.pyplot as plt\n",
        "%matplotlib inline\n",
        "\n",
        "from scipy.interpolate import interp1d\n",
        "\n",
        "\n",
        "from sklearn.model_selection import StratifiedKFold\n",
        "import matplotlib.patches as patches\n",
        "import matplotlib.pylab as plt\n",
        "# from scipy.interpolate import interp\n",
        " # interp function was moved to scipy.interpolate\n",
        "from sklearn.ensemble import RandomForestClassifier\n",
        "\n",
        "from sklearn.metrics import roc_curve,auc"
      ]
    },
    {
      "cell_type": "markdown",
      "id": "eecc1d12",
      "metadata": {
        "papermill": {
          "duration": 0.020056,
          "end_time": "2023-01-19T15:44:13.310562",
          "exception": false,
          "start_time": "2023-01-19T15:44:13.290506",
          "status": "completed"
        },
        "tags": [],
        "id": "eecc1d12"
      },
      "source": [
        "**Highly Imbalanced dataset, SMOTE may be required**"
      ]
    },
    {
      "cell_type": "code",
      "execution_count": null,
      "id": "b78a7463",
      "metadata": {
        "execution": {
          "iopub.execute_input": "2023-01-19T15:44:13.350564Z",
          "iopub.status.busy": "2023-01-19T15:44:13.350127Z",
          "iopub.status.idle": "2023-01-19T15:44:13.650487Z",
          "shell.execute_reply": "2023-01-19T15:44:13.649006Z"
        },
        "papermill": {
          "duration": 0.323574,
          "end_time": "2023-01-19T15:44:13.653393",
          "exception": false,
          "start_time": "2023-01-19T15:44:13.329819",
          "status": "completed"
        },
        "tags": [],
        "colab": {
          "base_uri": "https://localhost:8080/",
          "height": 587
        },
        "id": "b78a7463",
        "outputId": "9dcb21bf-5e8d-44e0-8657-310df41af161"
      },
      "outputs": [
        {
          "output_type": "display_data",
          "data": {
            "text/plain": [
              "<Figure size 800x600 with 1 Axes>"
            ],
            "image/png": "[encoded data removed]"
          },
          "metadata": {}
        }
      ],
      "source": [
        "\n",
        "df['isFraud'].value_counts().plot(kind='barh', figsize=(8, 6))\n",
        "plt.xlabel(\"Count\", labelpad=14)\n",
        "plt.ylabel(\"Target Variable\", labelpad=14)\n",
        "plt.title(\"Count of TARGET Variable per category\",y=1.02);"
      ]
    },
    {
      "cell_type": "code",
      "execution_count": null,
      "id": "7191a2c7",
      "metadata": {
        "execution": {
          "iopub.execute_input": "2023-01-19T15:44:13.695163Z",
          "iopub.status.busy": "2023-01-19T15:44:13.694234Z",
          "iopub.status.idle": "2023-01-19T15:44:13.757415Z",
          "shell.execute_reply": "2023-01-19T15:44:13.755989Z"
        },
        "papermill": {
          "duration": 0.086273,
          "end_time": "2023-01-19T15:44:13.759947",
          "exception": false,
          "start_time": "2023-01-19T15:44:13.673674",
          "status": "completed"
        },
        "tags": [],
        "colab": {
          "base_uri": "https://localhost:8080/",
          "height": 178
        },
        "id": "7191a2c7",
        "outputId": "0d41c07f-6afd-43d5-c8b9-41880d46705c"
      },
      "outputs": [
        {
          "output_type": "execute_result",
          "data": {
            "text/plain": [
              "isFraud\n",
              "0.0    99.913043\n",
              "1.0     0.086298\n",
              "Name: count, dtype: float64"
            ],
            "text/html": [
              "<div>\n",
              "<style scoped>\n",
              "    .dataframe tbody tr th:only-of-type {\n",
              "        vertical-align: middle;\n",
              "    }\n",
              "\n",
              "    .dataframe tbody tr th {\n",
              "        vertical-align: top;\n",
              "    }\n",
              "\n",
              "    .dataframe thead th {\n",
              "        text-align: right;\n",
              "    }\n",
              "</style>\n",
              "<table border=\"1\" class=\"dataframe\">\n",
              "  <thead>\n",
              "    <tr style=\"text-align: right;\">\n",
              "      <th></th>\n",
              "      <th>count</th>\n",
              "    </tr>\n",
              "    <tr>\n",
              "      <th>isFraud</th>\n",
              "      <th></th>\n",
              "    </tr>\n",
              "  </thead>\n",
              "  <tbody>\n",
              "    <tr>\n",
              "      <th>0.0</th>\n",
              "      <td>99.913043</td>\n",
              "    </tr>\n",
              "    <tr>\n",
              "      <th>1.0</th>\n",
              "      <td>0.086298</td>\n",
              "    </tr>\n",
              "  </tbody>\n",
              "</table>\n",
              "</div><br><label><b>dtype:</b> float64</label>"
            ]
          },
          "metadata": {},
          "execution_count": 10
        }
      ],
      "source": [
        "100*df['isFraud'].value_counts()/len(df['isFraud'])\n"
      ]
    },
    {
      "cell_type": "code",
      "execution_count": null,
      "id": "d8b80539",
      "metadata": {
        "execution": {
          "iopub.execute_input": "2023-01-19T15:44:13.799934Z",
          "iopub.status.busy": "2023-01-19T15:44:13.799450Z",
          "iopub.status.idle": "2023-01-19T15:44:15.257069Z",
          "shell.execute_reply": "2023-01-19T15:44:15.254960Z"
        },
        "papermill": {
          "duration": 1.480848,
          "end_time": "2023-01-19T15:44:15.259891",
          "exception": false,
          "start_time": "2023-01-19T15:44:13.779043",
          "status": "completed"
        },
        "tags": [],
        "colab": {
          "base_uri": "https://localhost:8080/",
          "height": 228
        },
        "id": "d8b80539",
        "outputId": "ccdc9cd6-27db-417c-edb7-999b927cad44"
      },
      "outputs": [
        {
          "output_type": "error",
          "ename": "TypeError",
          "evalue": "pointplot() got multiple values for argument 'data'",
          "traceback": [
            "\u001b[0;31m---------------------------------------------------------------------------\u001b[0m",
            "\u001b[0;31mTypeError\u001b[0m                                 Traceback (most recent call last)",
            "\u001b[0;32m<ipython-input-11-64b60d75cfa3>\u001b[0m in \u001b[0;36m<cell line: 3>\u001b[0;34m()\u001b[0m\n\u001b[1;32m      1\u001b[0m \u001b[0mmissing\u001b[0m \u001b[0;34m=\u001b[0m \u001b[0mpd\u001b[0m\u001b[0;34m.\u001b[0m\u001b[0mDataFrame\u001b[0m\u001b[0;34m(\u001b[0m\u001b[0;34m(\u001b[0m\u001b[0mdf\u001b[0m\u001b[0;34m.\u001b[0m\u001b[0misnull\u001b[0m\u001b[0;34m(\u001b[0m\u001b[0;34m)\u001b[0m\u001b[0;34m.\u001b[0m\u001b[0msum\u001b[0m\u001b[0;34m(\u001b[0m\u001b[0;34m)\u001b[0m\u001b[0;34m)\u001b[0m\u001b[0;34m*\u001b[0m\u001b[0;36m100\u001b[0m\u001b[0;34m/\u001b[0m\u001b[0mdf\u001b[0m\u001b[0;34m.\u001b[0m\u001b[0mshape\u001b[0m\u001b[0;34m[\u001b[0m\u001b[0;36m0\u001b[0m\u001b[0;34m]\u001b[0m\u001b[0;34m)\u001b[0m\u001b[0;34m.\u001b[0m\u001b[0mreset_index\u001b[0m\u001b[0;34m(\u001b[0m\u001b[0;34m)\u001b[0m\u001b[0;34m\u001b[0m\u001b[0;34m\u001b[0m\u001b[0m\n\u001b[1;32m      2\u001b[0m \u001b[0mplt\u001b[0m\u001b[0;34m.\u001b[0m\u001b[0mfigure\u001b[0m\u001b[0;34m(\u001b[0m\u001b[0mfigsize\u001b[0m\u001b[0;34m=\u001b[0m\u001b[0;34m(\u001b[0m\u001b[0;36m16\u001b[0m\u001b[0;34m,\u001b[0m\u001b[0;36m5\u001b[0m\u001b[0;34m)\u001b[0m\u001b[0;34m)\u001b[0m\u001b[0;34m\u001b[0m\u001b[0;34m\u001b[0m\u001b[0m\n\u001b[0;32m----> 3\u001b[0;31m \u001b[0max\u001b[0m \u001b[0;34m=\u001b[0m \u001b[0msns\u001b[0m\u001b[0;34m.\u001b[0m\u001b[0mpointplot\u001b[0m\u001b[0;34m(\u001b[0m\u001b[0;34m'index'\u001b[0m\u001b[0;34m,\u001b[0m\u001b[0;36m0\u001b[0m\u001b[0;34m,\u001b[0m\u001b[0mdata\u001b[0m\u001b[0;34m=\u001b[0m\u001b[0mmissing\u001b[0m\u001b[0;34m)\u001b[0m\u001b[0;34m\u001b[0m\u001b[0;34m\u001b[0m\u001b[0m\n\u001b[0m\u001b[1;32m      4\u001b[0m \u001b[0mplt\u001b[0m\u001b[0;34m.\u001b[0m\u001b[0mxticks\u001b[0m\u001b[0;34m(\u001b[0m\u001b[0mrotation\u001b[0m \u001b[0;34m=\u001b[0m\u001b[0;36m90\u001b[0m\u001b[0;34m,\u001b[0m\u001b[0mfontsize\u001b[0m \u001b[0;34m=\u001b[0m\u001b[0;36m7\u001b[0m\u001b[0;34m)\u001b[0m\u001b[0;34m\u001b[0m\u001b[0;34m\u001b[0m\u001b[0m\n\u001b[1;32m      5\u001b[0m \u001b[0mplt\u001b[0m\u001b[0;34m.\u001b[0m\u001b[0mtitle\u001b[0m\u001b[0;34m(\u001b[0m\u001b[0;34m\"Percentage of Missing values\"\u001b[0m\u001b[0;34m)\u001b[0m\u001b[0;34m\u001b[0m\u001b[0;34m\u001b[0m\u001b[0m\n",
            "\u001b[0;31mTypeError\u001b[0m: pointplot() got multiple values for argument 'data'"
          ]
        },
        {
          "output_type": "display_data",
          "data": {
            "text/plain": [
              "<Figure size 1600x500 with 0 Axes>"
            ]
          },
          "metadata": {}
        }
      ],
      "source": [
        "missing = pd.DataFrame((df.isnull().sum())*100/df.shape[0]).reset_index()\n",
        "plt.figure(figsize=(16,5))\n",
        "ax = sns.pointplot('index',0,data=missing)\n",
        "plt.xticks(rotation =90,fontsize =7)\n",
        "plt.title(\"Percentage of Missing values\")\n",
        "plt.ylabel(\"PERCENTAGE\")\n",
        "plt.show()\n"
      ]
    },
    {
      "cell_type": "code",
      "execution_count": null,
      "id": "980a9a37",
      "metadata": {
        "execution": {
          "iopub.execute_input": "2023-01-19T15:44:15.301570Z",
          "iopub.status.busy": "2023-01-19T15:44:15.300752Z",
          "iopub.status.idle": "2023-01-19T15:44:15.307503Z",
          "shell.execute_reply": "2023-01-19T15:44:15.306488Z"
        },
        "papermill": {
          "duration": 0.029891,
          "end_time": "2023-01-19T15:44:15.309609",
          "exception": false,
          "start_time": "2023-01-19T15:44:15.279718",
          "status": "completed"
        },
        "tags": [],
        "id": "980a9a37"
      },
      "outputs": [],
      "source": [
        "df.columns\n"
      ]
    },
    {
      "cell_type": "code",
      "execution_count": null,
      "id": "aa6e7711",
      "metadata": {
        "execution": {
          "iopub.execute_input": "2023-01-19T15:44:15.352821Z",
          "iopub.status.busy": "2023-01-19T15:44:15.352027Z",
          "iopub.status.idle": "2023-01-19T15:44:15.356587Z",
          "shell.execute_reply": "2023-01-19T15:44:15.355486Z"
        },
        "papermill": {
          "duration": 0.02913,
          "end_time": "2023-01-19T15:44:15.359202",
          "exception": false,
          "start_time": "2023-01-19T15:44:15.330072",
          "status": "completed"
        },
        "tags": [],
        "id": "aa6e7711"
      },
      "outputs": [],
      "source": [
        "target='isFraud'\n"
      ]
    },
    {
      "cell_type": "code",
      "source": [
        "\n",
        "print(target)"
      ],
      "metadata": {
        "id": "zD1IIwsGrV4_"
      },
      "id": "zD1IIwsGrV4_",
      "execution_count": null,
      "outputs": []
    },
    {
      "cell_type": "code",
      "execution_count": null,
      "id": "9adaa483",
      "metadata": {
        "execution": {
          "iopub.execute_input": "2023-01-19T15:44:15.401126Z",
          "iopub.status.busy": "2023-01-19T15:44:15.400673Z",
          "iopub.status.idle": "2023-01-19T15:44:15.445946Z",
          "shell.execute_reply": "2023-01-19T15:44:15.445083Z"
        },
        "papermill": {
          "duration": 0.06892,
          "end_time": "2023-01-19T15:44:15.448330",
          "exception": false,
          "start_time": "2023-01-19T15:44:15.379410",
          "status": "completed"
        },
        "tags": [],
        "id": "9adaa483"
      },
      "outputs": [],
      "source": [
        "df[df[target]==1].head()\n"
      ]
    },
    {
      "cell_type": "markdown",
      "id": "7a69ad12",
      "metadata": {
        "papermill": {
          "duration": 0.019655,
          "end_time": "2023-01-19T15:44:15.488341",
          "exception": false,
          "start_time": "2023-01-19T15:44:15.468686",
          "status": "completed"
        },
        "tags": [],
        "id": "7a69ad12"
      },
      "source": [
        "# FEATURE EXTRACTION"
      ]
    },
    {
      "cell_type": "code",
      "execution_count": null,
      "id": "615fc03d",
      "metadata": {
        "execution": {
          "iopub.execute_input": "2023-01-19T15:44:15.531476Z",
          "iopub.status.busy": "2023-01-19T15:44:15.530329Z",
          "iopub.status.idle": "2023-01-19T15:44:15.563969Z",
          "shell.execute_reply": "2023-01-19T15:44:15.563061Z"
        },
        "papermill": {
          "duration": 0.058123,
          "end_time": "2023-01-19T15:44:15.566538",
          "exception": false,
          "start_time": "2023-01-19T15:44:15.508415",
          "status": "completed"
        },
        "tags": [],
        "id": "615fc03d"
      },
      "outputs": [],
      "source": [
        "100*df[df[target]==1].newbalanceOrig.value_counts()/len(df[df[target]==1].newbalanceOrig)\n"
      ]
    },
    {
      "cell_type": "code",
      "execution_count": null,
      "id": "b86e7f49",
      "metadata": {
        "execution": {
          "iopub.execute_input": "2023-01-19T15:44:15.610377Z",
          "iopub.status.busy": "2023-01-19T15:44:15.609143Z",
          "iopub.status.idle": "2023-01-19T15:44:15.626191Z",
          "shell.execute_reply": "2023-01-19T15:44:15.624912Z"
        },
        "papermill": {
          "duration": 0.041403,
          "end_time": "2023-01-19T15:44:15.628809",
          "exception": false,
          "start_time": "2023-01-19T15:44:15.587406",
          "status": "completed"
        },
        "tags": [],
        "id": "b86e7f49"
      },
      "outputs": [],
      "source": [
        "145/len(df[df[target]==1])\n"
      ]
    },
    {
      "cell_type": "code",
      "execution_count": null,
      "id": "11377ee6",
      "metadata": {
        "execution": {
          "iopub.execute_input": "2023-01-19T15:44:15.672873Z",
          "iopub.status.busy": "2023-01-19T15:44:15.671695Z",
          "iopub.status.idle": "2023-01-19T15:44:15.702109Z",
          "shell.execute_reply": "2023-01-19T15:44:15.700905Z"
        },
        "papermill": {
          "duration": 0.055263,
          "end_time": "2023-01-19T15:44:15.704439",
          "exception": false,
          "start_time": "2023-01-19T15:44:15.649176",
          "status": "completed"
        },
        "tags": [],
        "id": "11377ee6"
      },
      "outputs": [],
      "source": [
        "100*df[df[target]==1].newbalanceDest.value_counts()/len(df[df[target]==1].newbalanceDest)\n"
      ]
    },
    {
      "cell_type": "code",
      "execution_count": null,
      "id": "efd573af",
      "metadata": {
        "execution": {
          "iopub.execute_input": "2023-01-19T15:44:15.748270Z",
          "iopub.status.busy": "2023-01-19T15:44:15.747484Z",
          "iopub.status.idle": "2023-01-19T15:44:15.755451Z",
          "shell.execute_reply": "2023-01-19T15:44:15.754284Z"
        },
        "papermill": {
          "duration": 0.032388,
          "end_time": "2023-01-19T15:44:15.757716",
          "exception": false,
          "start_time": "2023-01-19T15:44:15.725328",
          "status": "completed"
        },
        "tags": [],
        "id": "efd573af"
      },
      "outputs": [],
      "source": [
        "\n",
        "df.dtypes"
      ]
    },
    {
      "cell_type": "code",
      "execution_count": null,
      "id": "4ffb46d7",
      "metadata": {
        "execution": {
          "iopub.execute_input": "2023-01-19T15:44:15.801826Z",
          "iopub.status.busy": "2023-01-19T15:44:15.801390Z",
          "iopub.status.idle": "2023-01-19T15:44:16.219272Z",
          "shell.execute_reply": "2023-01-19T15:44:16.218104Z"
        },
        "papermill": {
          "duration": 0.442272,
          "end_time": "2023-01-19T15:44:16.221442",
          "exception": false,
          "start_time": "2023-01-19T15:44:15.779170",
          "status": "completed"
        },
        "tags": [],
        "id": "4ffb46d7"
      },
      "outputs": [],
      "source": [
        "df.type.value_counts()"
      ]
    },
    {
      "cell_type": "code",
      "execution_count": null,
      "id": "0ce14078",
      "metadata": {
        "execution": {
          "iopub.execute_input": "2023-01-19T15:44:16.264567Z",
          "iopub.status.busy": "2023-01-19T15:44:16.264070Z",
          "iopub.status.idle": "2023-01-19T15:44:16.292496Z",
          "shell.execute_reply": "2023-01-19T15:44:16.291610Z"
        },
        "papermill": {
          "duration": 0.052811,
          "end_time": "2023-01-19T15:44:16.294884",
          "exception": false,
          "start_time": "2023-01-19T15:44:16.242073",
          "status": "completed"
        },
        "tags": [],
        "id": "0ce14078"
      },
      "outputs": [],
      "source": [
        "100*df[df[target]==1].type.value_counts()/len(df[df[target]==1].type)\n"
      ]
    },
    {
      "cell_type": "code",
      "execution_count": null,
      "id": "c070b8e4",
      "metadata": {
        "papermill": {
          "duration": 0.020282,
          "end_time": "2023-01-19T15:44:16.336168",
          "exception": false,
          "start_time": "2023-01-19T15:44:16.315886",
          "status": "completed"
        },
        "tags": [],
        "id": "c070b8e4"
      },
      "outputs": [],
      "source": []
    },
    {
      "cell_type": "code",
      "execution_count": null,
      "id": "e3bf4ba3",
      "metadata": {
        "execution": {
          "iopub.execute_input": "2023-01-19T15:44:16.379643Z",
          "iopub.status.busy": "2023-01-19T15:44:16.379000Z",
          "iopub.status.idle": "2023-01-19T15:44:16.409385Z",
          "shell.execute_reply": "2023-01-19T15:44:16.408409Z"
        },
        "papermill": {
          "duration": 0.055045,
          "end_time": "2023-01-19T15:44:16.411943",
          "exception": false,
          "start_time": "2023-01-19T15:44:16.356898",
          "status": "completed"
        },
        "tags": [],
        "id": "e3bf4ba3"
      },
      "outputs": [],
      "source": [
        "100*df[df[target]==1].isFlaggedFraud.value_counts()/len(df[df[target]==1].isFlaggedFraud)\n"
      ]
    },
    {
      "cell_type": "markdown",
      "id": "423798f1",
      "metadata": {
        "papermill": {
          "duration": 0.020867,
          "end_time": "2023-01-19T15:44:16.453803",
          "exception": false,
          "start_time": "2023-01-19T15:44:16.432936",
          "status": "completed"
        },
        "tags": [],
        "id": "423798f1"
      },
      "source": [
        "# KDE PLOTS FOR FEATURES"
      ]
    },
    {
      "cell_type": "code",
      "execution_count": null,
      "id": "bcca9767",
      "metadata": {
        "execution": {
          "iopub.execute_input": "2023-01-19T15:44:16.497830Z",
          "iopub.status.busy": "2023-01-19T15:44:16.497035Z",
          "iopub.status.idle": "2023-01-19T15:44:39.432591Z",
          "shell.execute_reply": "2023-01-19T15:44:39.431652Z"
        },
        "papermill": {
          "duration": 22.960349,
          "end_time": "2023-01-19T15:44:39.435037",
          "exception": false,
          "start_time": "2023-01-19T15:44:16.474688",
          "status": "completed"
        },
        "tags": [],
        "id": "bcca9767"
      },
      "outputs": [],
      "source": [
        "\n",
        "Tot = sns.kdeplot(df.amount[(df[target] == 0) ],\n",
        "                color=\"Red\", shade = True)\n",
        "Tot = sns.kdeplot(df.amount[(df[target] == 1) ],\n",
        "                ax =Tot, color=\"Blue\", shade= True)\n",
        "Tot.legend([\"No fraud\",\"fraud\"],loc='upper right')\n",
        "Tot.set_ylabel('Density')\n",
        "Tot.set_xlabel('Total amount')\n",
        "Tot.set_title('Total amount by fraud')\n",
        "\n"
      ]
    },
    {
      "cell_type": "code",
      "execution_count": null,
      "id": "96390c63",
      "metadata": {
        "execution": {
          "iopub.execute_input": "2023-01-19T15:44:39.480790Z",
          "iopub.status.busy": "2023-01-19T15:44:39.479955Z",
          "iopub.status.idle": "2023-01-19T15:45:03.394883Z",
          "shell.execute_reply": "2023-01-19T15:45:03.393729Z"
        },
        "papermill": {
          "duration": 23.940705,
          "end_time": "2023-01-19T15:45:03.397708",
          "exception": false,
          "start_time": "2023-01-19T15:44:39.457003",
          "status": "completed"
        },
        "tags": [],
        "id": "96390c63"
      },
      "outputs": [],
      "source": [
        "Tot = sns.kdeplot(df.oldbalanceOrg[(df[target] == 0) ],\n",
        "                color=\"Red\", shade = True)\n",
        "Tot = sns.kdeplot(df.oldbalanceOrg[(df[target] == 1) ],\n",
        "                ax =Tot, color=\"Blue\", shade= True)\n",
        "Tot.legend([\"No fraud\",\"fraud\"],loc='upper right')\n",
        "Tot.set_ylabel('Density')\n",
        "Tot.set_xlabel('Total amount')\n",
        "Tot.set_title('Total oldbalanceorigin by fraud')"
      ]
    },
    {
      "cell_type": "code",
      "execution_count": null,
      "id": "3594900a",
      "metadata": {
        "execution": {
          "iopub.execute_input": "2023-01-19T15:45:03.443657Z",
          "iopub.status.busy": "2023-01-19T15:45:03.442988Z",
          "iopub.status.idle": "2023-01-19T15:45:26.967140Z",
          "shell.execute_reply": "2023-01-19T15:45:26.966071Z"
        },
        "papermill": {
          "duration": 23.549984,
          "end_time": "2023-01-19T15:45:26.969663",
          "exception": false,
          "start_time": "2023-01-19T15:45:03.419679",
          "status": "completed"
        },
        "tags": [],
        "id": "3594900a"
      },
      "outputs": [],
      "source": [
        "Tot = sns.kdeplot(df.newbalanceOrig [(df[target] == 0) ],\n",
        "                color=\"Red\", shade = True)\n",
        "Tot = sns.kdeplot(df.newbalanceOrig [(df[target] == 1) ],\n",
        "                ax =Tot, color=\"Blue\", shade= True)\n",
        "Tot.legend([\"No fraud\",\"fraud\"],loc='upper right')\n",
        "Tot.set_ylabel('Density')\n",
        "Tot.set_xlabel('Total amount')\n",
        "Tot.set_title('Total newbalanceorigin by fraud')"
      ]
    },
    {
      "cell_type": "code",
      "execution_count": null,
      "id": "ae4d9c64",
      "metadata": {
        "execution": {
          "iopub.execute_input": "2023-01-19T15:45:27.016533Z",
          "iopub.status.busy": "2023-01-19T15:45:27.015326Z",
          "iopub.status.idle": "2023-01-19T15:45:49.886865Z",
          "shell.execute_reply": "2023-01-19T15:45:49.885768Z"
        },
        "papermill": {
          "duration": 22.897385,
          "end_time": "2023-01-19T15:45:49.889431",
          "exception": false,
          "start_time": "2023-01-19T15:45:26.992046",
          "status": "completed"
        },
        "tags": [],
        "id": "ae4d9c64"
      },
      "outputs": [],
      "source": [
        "\n",
        "Tot = sns.kdeplot(df.oldbalanceDest[(df[target] == 0) ],\n",
        "                color=\"Red\", shade = True)\n",
        "Tot = sns.kdeplot(df.oldbalanceDest[(df[target] == 1) ],\n",
        "                ax =Tot, color=\"Blue\", shade= True)\n",
        "Tot.legend([\"No fraud\",\"fraud\"],loc='upper right')\n",
        "Tot.set_ylabel('Density')\n",
        "Tot.set_xlabel('Total amount')\n",
        "Tot.set_title('Total oldbalancedestination by fraud')"
      ]
    },
    {
      "cell_type": "code",
      "execution_count": null,
      "id": "c00f1f83",
      "metadata": {
        "execution": {
          "iopub.execute_input": "2023-01-19T15:45:49.938134Z",
          "iopub.status.busy": "2023-01-19T15:45:49.937112Z",
          "iopub.status.idle": "2023-01-19T15:46:12.863894Z",
          "shell.execute_reply": "2023-01-19T15:46:12.863030Z"
        },
        "papermill": {
          "duration": 22.953184,
          "end_time": "2023-01-19T15:46:12.866121",
          "exception": false,
          "start_time": "2023-01-19T15:45:49.912937",
          "status": "completed"
        },
        "tags": [],
        "id": "c00f1f83"
      },
      "outputs": [],
      "source": [
        "Tot = sns.kdeplot(df.newbalanceDest [(df[target] == 0) ],\n",
        "                color=\"Red\", shade = True)\n",
        "Tot = sns.kdeplot(df.newbalanceDest [(df[target] == 1) ],\n",
        "                ax =Tot, color=\"Blue\", shade= True)\n",
        "Tot.legend([\"No fraud\",\"fraud\"],loc='upper right')\n",
        "Tot.set_ylabel('Density')\n",
        "Tot.set_xlabel('Total amount')\n",
        "Tot.set_title('Total newbalancedestination by fraud')"
      ]
    },
    {
      "cell_type": "markdown",
      "id": "293ce847",
      "metadata": {
        "papermill": {
          "duration": 0.022194,
          "end_time": "2023-01-19T15:46:12.911014",
          "exception": false,
          "start_time": "2023-01-19T15:46:12.888820",
          "status": "completed"
        },
        "tags": [],
        "id": "293ce847"
      },
      "source": [
        "# FEATURE ENGINEERING"
      ]
    },
    {
      "cell_type": "code",
      "execution_count": null,
      "id": "c49faedf",
      "metadata": {
        "execution": {
          "iopub.execute_input": "2023-01-19T15:46:12.960378Z",
          "iopub.status.busy": "2023-01-19T15:46:12.959281Z",
          "iopub.status.idle": "2023-01-19T15:46:13.035259Z",
          "shell.execute_reply": "2023-01-19T15:46:13.033988Z"
        },
        "papermill": {
          "duration": 0.103184,
          "end_time": "2023-01-19T15:46:13.038415",
          "exception": false,
          "start_time": "2023-01-19T15:46:12.935231",
          "status": "completed"
        },
        "tags": [],
        "id": "c49faedf"
      },
      "outputs": [],
      "source": [
        "df['dest_increase'] = (df['newbalanceDest']- df['oldbalanceDest']).values\n",
        "df['origin_bal_change'] = (df['oldbalanceOrg'] - df['newbalanceOrig']).values\n"
      ]
    },
    {
      "cell_type": "code",
      "execution_count": null,
      "id": "32e85500",
      "metadata": {
        "execution": {
          "iopub.execute_input": "2023-01-19T15:46:13.086422Z",
          "iopub.status.busy": "2023-01-19T15:46:13.086029Z",
          "iopub.status.idle": "2023-01-19T15:46:13.642906Z",
          "shell.execute_reply": "2023-01-19T15:46:13.641493Z"
        },
        "papermill": {
          "duration": 0.583548,
          "end_time": "2023-01-19T15:46:13.645375",
          "exception": false,
          "start_time": "2023-01-19T15:46:13.061827",
          "status": "completed"
        },
        "tags": [],
        "id": "32e85500"
      },
      "outputs": [],
      "source": [
        "gg = (df['newbalanceOrig']==0.0) & (df['origin_bal_change']==df['amount'])\n",
        "df['possible_fraud'] = 0\n",
        "df.loc[gg,'possible_fraud'] = 1\n",
        "df[df['possible_fraud']==1].head(10)"
      ]
    },
    {
      "cell_type": "code",
      "execution_count": null,
      "id": "c046ac07",
      "metadata": {
        "execution": {
          "iopub.execute_input": "2023-01-19T15:46:13.694417Z",
          "iopub.status.busy": "2023-01-19T15:46:13.694025Z",
          "iopub.status.idle": "2023-01-19T15:46:13.860182Z",
          "shell.execute_reply": "2023-01-19T15:46:13.859291Z"
        },
        "papermill": {
          "duration": 0.194047,
          "end_time": "2023-01-19T15:46:13.862779",
          "exception": false,
          "start_time": "2023-01-19T15:46:13.668732",
          "status": "completed"
        },
        "tags": [],
        "id": "c046ac07"
      },
      "outputs": [],
      "source": [
        "gg1 = (df['dest_increase']==0.0) & (df['amount']>0)\n",
        "gg2 = gg1 & ((df['dest_increase']!=df['amount']) & (df['isFlaggedFraud']==0) & (df['possible_fraud']==0))\n",
        "df['possible_fraud2'] = 0\n",
        "df.loc[gg2,'possible_fraud2'] = 1"
      ]
    },
    {
      "cell_type": "code",
      "execution_count": null,
      "id": "f6df1b70",
      "metadata": {
        "execution": {
          "iopub.execute_input": "2023-01-19T15:46:13.910445Z",
          "iopub.status.busy": "2023-01-19T15:46:13.909812Z",
          "iopub.status.idle": "2023-01-19T15:46:13.941945Z",
          "shell.execute_reply": "2023-01-19T15:46:13.941042Z"
        },
        "papermill": {
          "duration": 0.058242,
          "end_time": "2023-01-19T15:46:13.944021",
          "exception": false,
          "start_time": "2023-01-19T15:46:13.885779",
          "status": "completed"
        },
        "tags": [],
        "id": "f6df1b70"
      },
      "outputs": [],
      "source": [
        "df"
      ]
    },
    {
      "cell_type": "code",
      "execution_count": null,
      "id": "97739083",
      "metadata": {
        "execution": {
          "iopub.execute_input": "2023-01-19T15:46:13.994875Z",
          "iopub.status.busy": "2023-01-19T15:46:13.994057Z",
          "iopub.status.idle": "2023-01-19T15:46:14.463651Z",
          "shell.execute_reply": "2023-01-19T15:46:14.462471Z"
        },
        "papermill": {
          "duration": 0.499009,
          "end_time": "2023-01-19T15:46:14.466706",
          "exception": false,
          "start_time": "2023-01-19T15:46:13.967697",
          "status": "completed"
        },
        "tags": [],
        "id": "97739083"
      },
      "outputs": [],
      "source": [
        "df=df.drop(['step','nameDest','nameOrig'],axis=1)"
      ]
    },
    {
      "cell_type": "code",
      "execution_count": null,
      "id": "bb2e4b12",
      "metadata": {
        "execution": {
          "iopub.execute_input": "2023-01-19T15:46:14.516716Z",
          "iopub.status.busy": "2023-01-19T15:46:14.516244Z",
          "iopub.status.idle": "2023-01-19T15:46:14.933973Z",
          "shell.execute_reply": "2023-01-19T15:46:14.932826Z"
        },
        "papermill": {
          "duration": 0.445172,
          "end_time": "2023-01-19T15:46:14.936175",
          "exception": false,
          "start_time": "2023-01-19T15:46:14.491003",
          "status": "completed"
        },
        "tags": [],
        "id": "bb2e4b12"
      },
      "outputs": [],
      "source": [
        "df['type'].value_counts()"
      ]
    },
    {
      "cell_type": "code",
      "execution_count": null,
      "id": "6a987fb3",
      "metadata": {
        "execution": {
          "iopub.execute_input": "2023-01-19T15:46:14.987505Z",
          "iopub.status.busy": "2023-01-19T15:46:14.987050Z",
          "iopub.status.idle": "2023-01-19T15:46:14.992636Z",
          "shell.execute_reply": "2023-01-19T15:46:14.991637Z"
        },
        "papermill": {
          "duration": 0.034206,
          "end_time": "2023-01-19T15:46:14.994854",
          "exception": false,
          "start_time": "2023-01-19T15:46:14.960648",
          "status": "completed"
        },
        "tags": [],
        "id": "6a987fb3"
      },
      "outputs": [],
      "source": [
        "new_data = { \"CASH_OUT\":1,\n",
        "             \"TRANSFER\":1,\n",
        "             \"CASH_IN\":0,\n",
        "             \"DEBIT\":0,\n",
        "            \"PAYMENT\":0,\n",
        "\n",
        "\n",
        "           }"
      ]
    },
    {
      "cell_type": "code",
      "execution_count": null,
      "id": "fe422931",
      "metadata": {
        "execution": {
          "iopub.execute_input": "2023-01-19T15:46:15.044563Z",
          "iopub.status.busy": "2023-01-19T15:46:15.044120Z",
          "iopub.status.idle": "2023-01-19T15:46:15.579302Z",
          "shell.execute_reply": "2023-01-19T15:46:15.577739Z"
        },
        "papermill": {
          "duration": 0.563292,
          "end_time": "2023-01-19T15:46:15.582217",
          "exception": false,
          "start_time": "2023-01-19T15:46:15.018925",
          "status": "completed"
        },
        "tags": [],
        "id": "fe422931"
      },
      "outputs": [],
      "source": [
        "df['type'] = df['type'].map(new_data)\n",
        "\n"
      ]
    },
    {
      "cell_type": "code",
      "source": [],
      "metadata": {
        "id": "dT1lsPVpsGTq"
      },
      "id": "dT1lsPVpsGTq",
      "execution_count": null,
      "outputs": []
    },
    {
      "cell_type": "code",
      "execution_count": null,
      "id": "f19aa205",
      "metadata": {
        "execution": {
          "iopub.execute_input": "2023-01-19T15:46:15.633311Z",
          "iopub.status.busy": "2023-01-19T15:46:15.632426Z",
          "iopub.status.idle": "2023-01-19T15:46:15.659624Z",
          "shell.execute_reply": "2023-01-19T15:46:15.658468Z"
        },
        "papermill": {
          "duration": 0.055328,
          "end_time": "2023-01-19T15:46:15.662382",
          "exception": false,
          "start_time": "2023-01-19T15:46:15.607054",
          "status": "completed"
        },
        "tags": [],
        "id": "f19aa205"
      },
      "outputs": [],
      "source": [
        "df"
      ]
    },
    {
      "cell_type": "markdown",
      "id": "64426d34",
      "metadata": {
        "papermill": {
          "duration": 0.024093,
          "end_time": "2023-01-19T15:46:15.711225",
          "exception": false,
          "start_time": "2023-01-19T15:46:15.687132",
          "status": "completed"
        },
        "tags": [],
        "id": "64426d34"
      },
      "source": [
        "scaling"
      ]
    },
    {
      "cell_type": "code",
      "execution_count": null,
      "id": "361f6746",
      "metadata": {
        "execution": {
          "iopub.execute_input": "2023-01-19T15:46:15.763072Z",
          "iopub.status.busy": "2023-01-19T15:46:15.761935Z",
          "iopub.status.idle": "2023-01-19T15:46:15.766889Z",
          "shell.execute_reply": "2023-01-19T15:46:15.765879Z"
        },
        "papermill": {
          "duration": 0.03278,
          "end_time": "2023-01-19T15:46:15.769152",
          "exception": false,
          "start_time": "2023-01-19T15:46:15.736372",
          "status": "completed"
        },
        "tags": [],
        "id": "361f6746"
      },
      "outputs": [],
      "source": [
        "\n",
        "from sklearn.preprocessing import MinMaxScaler\n",
        "scaler = MinMaxScaler()\n"
      ]
    },
    {
      "cell_type": "code",
      "execution_count": null,
      "id": "72de6602",
      "metadata": {
        "execution": {
          "iopub.execute_input": "2023-01-19T15:46:15.819279Z",
          "iopub.status.busy": "2023-01-19T15:46:15.818845Z",
          "iopub.status.idle": "2023-01-19T15:46:17.204517Z",
          "shell.execute_reply": "2023-01-19T15:46:17.203475Z"
        },
        "papermill": {
          "duration": 1.413924,
          "end_time": "2023-01-19T15:46:17.207400",
          "exception": false,
          "start_time": "2023-01-19T15:46:15.793476",
          "status": "completed"
        },
        "tags": [],
        "id": "72de6602"
      },
      "outputs": [],
      "source": [
        "\n",
        "scaled = scaler.fit_transform(df)\n",
        "scaled=pd.DataFrame(scaled,columns=df.columns)"
      ]
    },
    {
      "cell_type": "code",
      "execution_count": null,
      "id": "c5f15052",
      "metadata": {
        "execution": {
          "iopub.execute_input": "2023-01-19T15:46:17.257784Z",
          "iopub.status.busy": "2023-01-19T15:46:17.257302Z",
          "iopub.status.idle": "2023-01-19T15:46:17.283048Z",
          "shell.execute_reply": "2023-01-19T15:46:17.281964Z"
        },
        "papermill": {
          "duration": 0.05362,
          "end_time": "2023-01-19T15:46:17.285492",
          "exception": false,
          "start_time": "2023-01-19T15:46:17.231872",
          "status": "completed"
        },
        "tags": [],
        "id": "c5f15052"
      },
      "outputs": [],
      "source": [
        "scaled"
      ]
    },
    {
      "cell_type": "code",
      "execution_count": null,
      "id": "2d537339",
      "metadata": {
        "execution": {
          "iopub.execute_input": "2023-01-19T15:46:17.336349Z",
          "iopub.status.busy": "2023-01-19T15:46:17.335952Z",
          "iopub.status.idle": "2023-01-19T15:46:17.532700Z",
          "shell.execute_reply": "2023-01-19T15:46:17.531775Z"
        },
        "papermill": {
          "duration": 0.225351,
          "end_time": "2023-01-19T15:46:17.535339",
          "exception": false,
          "start_time": "2023-01-19T15:46:17.309988",
          "status": "completed"
        },
        "tags": [],
        "id": "2d537339"
      },
      "outputs": [],
      "source": [
        "X = scaled.drop('isFraud', axis=1)\n",
        "y = scaled['isFraud']\n"
      ]
    },
    {
      "cell_type": "code",
      "source": [
        "\n",
        "X = X.dropna(subset=['isFlaggedFraud'])\n",
        "\n",
        "\n",
        "X['isFlaggedFraud'] = X['isFlaggedFraud'].astype(int)\n"
      ],
      "metadata": {
        "id": "EA-iqP27uJU9"
      },
      "id": "EA-iqP27uJU9",
      "execution_count": null,
      "outputs": []
    },
    {
      "cell_type": "code",
      "execution_count": null,
      "id": "de91e87c",
      "metadata": {
        "execution": {
          "iopub.execute_input": "2023-01-19T15:46:17.586767Z",
          "iopub.status.busy": "2023-01-19T15:46:17.586349Z",
          "iopub.status.idle": "2023-01-19T15:46:17.887458Z",
          "shell.execute_reply": "2023-01-19T15:46:17.886383Z"
        },
        "papermill": {
          "duration": 0.329706,
          "end_time": "2023-01-19T15:46:17.890138",
          "exception": false,
          "start_time": "2023-01-19T15:46:17.560432",
          "status": "completed"
        },
        "tags": [],
        "id": "de91e87c"
      },
      "outputs": [],
      "source": [
        "X['isFlaggedFraud']=X['isFlaggedFraud'].astype(int)\n"
      ]
    },
    {
      "cell_type": "code",
      "execution_count": null,
      "id": "630155a9",
      "metadata": {
        "execution": {
          "iopub.execute_input": "2023-01-19T15:46:17.941691Z",
          "iopub.status.busy": "2023-01-19T15:46:17.941242Z",
          "iopub.status.idle": "2023-01-19T15:46:18.028744Z",
          "shell.execute_reply": "2023-01-19T15:46:18.027631Z"
        },
        "papermill": {
          "duration": 0.116243,
          "end_time": "2023-01-19T15:46:18.031408",
          "exception": false,
          "start_time": "2023-01-19T15:46:17.915165",
          "status": "completed"
        },
        "tags": [],
        "id": "630155a9"
      },
      "outputs": [],
      "source": [
        "from statsmodels.stats.outliers_influence import variance_inflation_factor"
      ]
    },
    {
      "cell_type": "code",
      "execution_count": null,
      "id": "b6706f86",
      "metadata": {
        "execution": {
          "iopub.execute_input": "2023-01-19T15:46:18.083620Z",
          "iopub.status.busy": "2023-01-19T15:46:18.083198Z",
          "iopub.status.idle": "2023-01-19T15:46:18.090643Z",
          "shell.execute_reply": "2023-01-19T15:46:18.089145Z"
        },
        "papermill": {
          "duration": 0.036219,
          "end_time": "2023-01-19T15:46:18.093208",
          "exception": false,
          "start_time": "2023-01-19T15:46:18.056989",
          "status": "completed"
        },
        "tags": [],
        "id": "b6706f86"
      },
      "outputs": [],
      "source": [
        "vif_data = pd.DataFrame()\n",
        "vif_data[\"feature\"] = X.columns"
      ]
    },
    {
      "cell_type": "code",
      "source": [
        "print(X.columns)\n"
      ],
      "metadata": {
        "id": "hCZtZxm6uwkE"
      },
      "id": "hCZtZxm6uwkE",
      "execution_count": null,
      "outputs": []
    },
    {
      "cell_type": "code",
      "execution_count": null,
      "id": "28de95ad",
      "metadata": {
        "execution": {
          "iopub.execute_input": "2023-01-19T15:46:18.144745Z",
          "iopub.status.busy": "2023-01-19T15:46:18.144301Z",
          "iopub.status.idle": "2023-01-19T15:46:18.779645Z",
          "shell.execute_reply": "2023-01-19T15:46:18.778174Z"
        },
        "papermill": {
          "duration": 0.663873,
          "end_time": "2023-01-19T15:46:18.782352",
          "exception": false,
          "start_time": "2023-01-19T15:46:18.118479",
          "status": "completed"
        },
        "tags": [],
        "id": "28de95ad"
      },
      "outputs": [],
      "source": [
        "X['possible_fraud']=X['possible_fraud'].astype(int)\n",
        "# X['possible_fraud2']=X['possible_fraud2'].astype(int)\n",
        "X['type']=X['type'].astype(int)\n",
        "y=y.astype(int)\n"
      ]
    },
    {
      "cell_type": "code",
      "execution_count": null,
      "id": "90418d58",
      "metadata": {
        "execution": {
          "iopub.execute_input": "2023-01-19T15:46:18.834949Z",
          "iopub.status.busy": "2023-01-19T15:46:18.834507Z",
          "iopub.status.idle": "2023-01-19T15:47:41.414101Z",
          "shell.execute_reply": "2023-01-19T15:47:41.412668Z"
        },
        "papermill": {
          "duration": 82.609527,
          "end_time": "2023-01-19T15:47:41.417783",
          "exception": false,
          "start_time": "2023-01-19T15:46:18.808256",
          "status": "completed"
        },
        "tags": [],
        "id": "90418d58"
      },
      "outputs": [],
      "source": [
        "vif_data[\"VIF\"] = [variance_inflation_factor(X.values, i)\n",
        "                          for i in range(len(X.columns))]"
      ]
    },
    {
      "cell_type": "code",
      "execution_count": null,
      "id": "4721d2ec",
      "metadata": {
        "execution": {
          "iopub.execute_input": "2023-01-19T15:47:41.474902Z",
          "iopub.status.busy": "2023-01-19T15:47:41.474466Z",
          "iopub.status.idle": "2023-01-19T15:47:41.488061Z",
          "shell.execute_reply": "2023-01-19T15:47:41.486870Z"
        },
        "papermill": {
          "duration": 0.043481,
          "end_time": "2023-01-19T15:47:41.491460",
          "exception": false,
          "start_time": "2023-01-19T15:47:41.447979",
          "status": "completed"
        },
        "tags": [],
        "id": "4721d2ec"
      },
      "outputs": [],
      "source": [
        "vif_data"
      ]
    },
    {
      "cell_type": "code",
      "execution_count": null,
      "id": "2bdb9c3f",
      "metadata": {
        "execution": {
          "iopub.execute_input": "2023-01-19T15:47:41.560978Z",
          "iopub.status.busy": "2023-01-19T15:47:41.560495Z",
          "iopub.status.idle": "2023-01-19T15:47:41.696286Z",
          "shell.execute_reply": "2023-01-19T15:47:41.695053Z"
        },
        "papermill": {
          "duration": 0.173487,
          "end_time": "2023-01-19T15:47:41.699005",
          "exception": false,
          "start_time": "2023-01-19T15:47:41.525518",
          "status": "completed"
        },
        "tags": [],
        "id": "2bdb9c3f"
      },
      "outputs": [],
      "source": [
        "X=X.drop(['oldbalanceOrg','newbalanceOrig','oldbalanceDest','newbalanceDest','dest_increase'],axis=1)"
      ]
    },
    {
      "cell_type": "markdown",
      "id": "8b4cab35",
      "metadata": {
        "papermill": {
          "duration": 0.02481,
          "end_time": "2023-01-19T15:47:41.748747",
          "exception": false,
          "start_time": "2023-01-19T15:47:41.723937",
          "status": "completed"
        },
        "tags": [],
        "id": "8b4cab35"
      },
      "source": [
        "## **Model building**\n",
        "* LogisticRegression\n",
        "* RandomForestClassifier"
      ]
    },
    {
      "cell_type": "code",
      "execution_count": null,
      "id": "b9aecbb3",
      "metadata": {
        "execution": {
          "iopub.execute_input": "2023-01-19T15:47:41.800468Z",
          "iopub.status.busy": "2023-01-19T15:47:41.800041Z",
          "iopub.status.idle": "2023-01-19T15:47:41.805625Z",
          "shell.execute_reply": "2023-01-19T15:47:41.804474Z"
        },
        "papermill": {
          "duration": 0.034079,
          "end_time": "2023-01-19T15:47:41.807815",
          "exception": false,
          "start_time": "2023-01-19T15:47:41.773736",
          "status": "completed"
        },
        "tags": [],
        "id": "b9aecbb3"
      },
      "outputs": [],
      "source": [
        "\n",
        "from sklearn.model_selection import train_test_split\n",
        "\n",
        "\n",
        "from sklearn.linear_model import LogisticRegression\n",
        "import sklearn.metrics as metrics\n"
      ]
    },
    {
      "cell_type": "code",
      "execution_count": null,
      "id": "ad470c5d",
      "metadata": {
        "execution": {
          "iopub.execute_input": "2023-01-19T15:47:41.859185Z",
          "iopub.status.busy": "2023-01-19T15:47:41.858736Z",
          "iopub.status.idle": "2023-01-19T15:47:41.864310Z",
          "shell.execute_reply": "2023-01-19T15:47:41.863156Z"
        },
        "papermill": {
          "duration": 0.0339,
          "end_time": "2023-01-19T15:47:41.866530",
          "exception": false,
          "start_time": "2023-01-19T15:47:41.832630",
          "status": "completed"
        },
        "tags": [],
        "id": "ad470c5d"
      },
      "outputs": [],
      "source": [
        "from sklearn.metrics import classification_report, accuracy_score, confusion_matrix, roc_auc_score, roc_curve\n"
      ]
    },
    {
      "cell_type": "code",
      "execution_count": null,
      "id": "d4c06657",
      "metadata": {
        "execution": {
          "iopub.execute_input": "2023-01-19T15:47:41.920216Z",
          "iopub.status.busy": "2023-01-19T15:47:41.919104Z",
          "iopub.status.idle": "2023-01-19T15:47:43.405827Z",
          "shell.execute_reply": "2023-01-19T15:47:43.404663Z"
        },
        "papermill": {
          "duration": 1.517088,
          "end_time": "2023-01-19T15:47:43.408931",
          "exception": false,
          "start_time": "2023-01-19T15:47:41.891843",
          "status": "completed"
        },
        "tags": [],
        "id": "d4c06657"
      },
      "outputs": [],
      "source": [
        "x_train1, x_test1, y_train1, y_test1 = train_test_split(X,y ,test_size =0.2,shuffle=True)\n"
      ]
    },
    {
      "cell_type": "code",
      "execution_count": null,
      "id": "dee7b58b",
      "metadata": {
        "execution": {
          "iopub.execute_input": "2023-01-19T15:47:43.461087Z",
          "iopub.status.busy": "2023-01-19T15:47:43.460683Z",
          "iopub.status.idle": "2023-01-19T15:48:01.440726Z",
          "shell.execute_reply": "2023-01-19T15:48:01.439380Z"
        },
        "papermill": {
          "duration": 18.009083,
          "end_time": "2023-01-19T15:48:01.443377",
          "exception": false,
          "start_time": "2023-01-19T15:47:43.434294",
          "status": "completed"
        },
        "tags": [],
        "id": "dee7b58b"
      },
      "outputs": [],
      "source": [
        "model1=LogisticRegression()\n",
        "\n",
        "model1.fit(x_train1,y_train1)"
      ]
    },
    {
      "cell_type": "code",
      "execution_count": null,
      "id": "005ca0ac",
      "metadata": {
        "execution": {
          "iopub.execute_input": "2023-01-19T15:48:01.528529Z",
          "iopub.status.busy": "2023-01-19T15:48:01.527950Z",
          "iopub.status.idle": "2023-01-19T15:48:01.757276Z",
          "shell.execute_reply": "2023-01-19T15:48:01.756429Z"
        },
        "papermill": {
          "duration": 0.274717,
          "end_time": "2023-01-19T15:48:01.759703",
          "exception": false,
          "start_time": "2023-01-19T15:48:01.484986",
          "status": "completed"
        },
        "tags": [],
        "id": "005ca0ac"
      },
      "outputs": [],
      "source": [
        "\n",
        "pred_cv1 = model1.predict(x_test1)\n",
        "accuracy_score(y_test1,pred_cv1)"
      ]
    },
    {
      "cell_type": "code",
      "execution_count": null,
      "id": "30c0e1cd",
      "metadata": {
        "papermill": {
          "duration": 0.025228,
          "end_time": "2023-01-19T15:48:01.810166",
          "exception": false,
          "start_time": "2023-01-19T15:48:01.784938",
          "status": "completed"
        },
        "tags": [],
        "id": "30c0e1cd"
      },
      "outputs": [],
      "source": []
    },
    {
      "cell_type": "markdown",
      "id": "153d7f0b",
      "metadata": {
        "papermill": {
          "duration": 0.024638,
          "end_time": "2023-01-19T15:48:01.859758",
          "exception": false,
          "start_time": "2023-01-19T15:48:01.835120",
          "status": "completed"
        },
        "tags": [],
        "id": "153d7f0b"
      },
      "source": [
        "### **excellent results for minority class**"
      ]
    },
    {
      "cell_type": "code",
      "execution_count": null,
      "id": "8338fee7",
      "metadata": {
        "execution": {
          "iopub.execute_input": "2023-01-19T15:48:01.914570Z",
          "iopub.status.busy": "2023-01-19T15:48:01.914167Z",
          "iopub.status.idle": "2023-01-19T15:48:04.261979Z",
          "shell.execute_reply": "2023-01-19T15:48:04.261041Z"
        },
        "papermill": {
          "duration": 2.380477,
          "end_time": "2023-01-19T15:48:04.265322",
          "exception": false,
          "start_time": "2023-01-19T15:48:01.884845",
          "status": "completed"
        },
        "tags": [],
        "id": "8338fee7"
      },
      "outputs": [],
      "source": [
        "print(classification_report(y_test1, pred_cv1, labels=[0,1]))\n"
      ]
    },
    {
      "cell_type": "code",
      "execution_count": null,
      "id": "b5418895",
      "metadata": {
        "execution": {
          "iopub.execute_input": "2023-01-19T15:48:04.319254Z",
          "iopub.status.busy": "2023-01-19T15:48:04.318757Z",
          "iopub.status.idle": "2023-01-19T15:48:04.324276Z",
          "shell.execute_reply": "2023-01-19T15:48:04.322920Z"
        },
        "papermill": {
          "duration": 0.034517,
          "end_time": "2023-01-19T15:48:04.326690",
          "exception": false,
          "start_time": "2023-01-19T15:48:04.292173",
          "status": "completed"
        },
        "tags": [],
        "id": "b5418895"
      },
      "outputs": [],
      "source": [
        "from sklearn.ensemble import RandomForestClassifier"
      ]
    },
    {
      "cell_type": "code",
      "execution_count": null,
      "id": "70085bfd",
      "metadata": {
        "execution": {
          "iopub.execute_input": "2023-01-19T15:48:04.378962Z",
          "iopub.status.busy": "2023-01-19T15:48:04.378476Z",
          "iopub.status.idle": "2023-01-19T15:51:53.135811Z",
          "shell.execute_reply": "2023-01-19T15:51:53.134654Z"
        },
        "papermill": {
          "duration": 228.811086,
          "end_time": "2023-01-19T15:51:53.163019",
          "exception": false,
          "start_time": "2023-01-19T15:48:04.351933",
          "status": "completed"
        },
        "tags": [],
        "id": "70085bfd"
      },
      "outputs": [],
      "source": [
        "clf = RandomForestClassifier(max_depth=2, random_state=0)\n",
        "clf.fit(x_train1, y_train1)\n"
      ]
    },
    {
      "cell_type": "code",
      "execution_count": null,
      "id": "eafa3a00",
      "metadata": {
        "execution": {
          "iopub.execute_input": "2023-01-19T15:51:53.215477Z",
          "iopub.status.busy": "2023-01-19T15:51:53.214833Z",
          "iopub.status.idle": "2023-01-19T15:51:59.657330Z",
          "shell.execute_reply": "2023-01-19T15:51:59.656069Z"
        },
        "papermill": {
          "duration": 6.47185,
          "end_time": "2023-01-19T15:51:59.659853",
          "exception": false,
          "start_time": "2023-01-19T15:51:53.188003",
          "status": "completed"
        },
        "tags": [],
        "id": "eafa3a00"
      },
      "outputs": [],
      "source": [
        "pred_cv2 = clf.predict(x_test1)\n",
        "accuracy_score(y_test1,pred_cv2)"
      ]
    },
    {
      "cell_type": "code",
      "execution_count": null,
      "id": "f6a1ec4d",
      "metadata": {
        "execution": {
          "iopub.execute_input": "2023-01-19T15:51:59.713586Z",
          "iopub.status.busy": "2023-01-19T15:51:59.713132Z",
          "iopub.status.idle": "2023-01-19T15:52:02.058284Z",
          "shell.execute_reply": "2023-01-19T15:52:02.057057Z"
        },
        "papermill": {
          "duration": 2.374549,
          "end_time": "2023-01-19T15:52:02.060656",
          "exception": false,
          "start_time": "2023-01-19T15:51:59.686107",
          "status": "completed"
        },
        "tags": [],
        "id": "f6a1ec4d"
      },
      "outputs": [],
      "source": [
        "print(classification_report(y_test1, pred_cv2, labels=[0,1]))\n"
      ]
    },
    {
      "cell_type": "code",
      "execution_count": null,
      "id": "a4eef1d9",
      "metadata": {
        "papermill": {
          "duration": 0.02523,
          "end_time": "2023-01-19T15:52:02.111389",
          "exception": false,
          "start_time": "2023-01-19T15:52:02.086159",
          "status": "completed"
        },
        "tags": [],
        "id": "a4eef1d9"
      },
      "outputs": [],
      "source": []
    },
    {
      "cell_type": "code",
      "execution_count": null,
      "id": "9dd0d5a6",
      "metadata": {
        "papermill": {
          "duration": 0.025114,
          "end_time": "2023-01-19T15:52:02.161916",
          "exception": false,
          "start_time": "2023-01-19T15:52:02.136802",
          "status": "completed"
        },
        "tags": [],
        "id": "9dd0d5a6"
      },
      "outputs": [],
      "source": []
    },
    {
      "cell_type": "markdown",
      "id": "c72b472f",
      "metadata": {
        "papermill": {
          "duration": 0.024986,
          "end_time": "2023-01-19T15:52:02.212388",
          "exception": false,
          "start_time": "2023-01-19T15:52:02.187402",
          "status": "completed"
        },
        "tags": [],
        "id": "c72b472f"
      },
      "source": [
        "# FEATURE IMPORTANCE"
      ]
    },
    {
      "cell_type": "code",
      "execution_count": null,
      "id": "ea6a9d47",
      "metadata": {
        "execution": {
          "iopub.execute_input": "2023-01-19T15:52:02.264962Z",
          "iopub.status.busy": "2023-01-19T15:52:02.264569Z",
          "iopub.status.idle": "2023-01-19T15:58:03.605831Z",
          "shell.execute_reply": "2023-01-19T15:58:03.604509Z"
        },
        "papermill": {
          "duration": 361.397173,
          "end_time": "2023-01-19T15:58:03.634856",
          "exception": false,
          "start_time": "2023-01-19T15:52:02.237683",
          "status": "completed"
        },
        "tags": [],
        "id": "ea6a9d47"
      },
      "outputs": [],
      "source": [
        "from sklearn.feature_selection import mutual_info_classif\n",
        "# determine the mutual information\n",
        "mutual_info = mutual_info_classif(x_train1, y_train1)\n",
        "mutual_info"
      ]
    },
    {
      "cell_type": "code",
      "execution_count": null,
      "id": "940026f1",
      "metadata": {
        "execution": {
          "iopub.execute_input": "2023-01-19T15:58:03.688937Z",
          "iopub.status.busy": "2023-01-19T15:58:03.687860Z",
          "iopub.status.idle": "2023-01-19T15:58:03.697938Z",
          "shell.execute_reply": "2023-01-19T15:58:03.696989Z"
        },
        "papermill": {
          "duration": 0.039799,
          "end_time": "2023-01-19T15:58:03.700185",
          "exception": false,
          "start_time": "2023-01-19T15:58:03.660386",
          "status": "completed"
        },
        "tags": [],
        "id": "940026f1"
      },
      "outputs": [],
      "source": [
        "mutual_info = pd.Series(mutual_info)\n",
        "mutual_info.index = x_train1.columns\n",
        "mutual_info.sort_values(ascending=False)"
      ]
    },
    {
      "cell_type": "code",
      "execution_count": null,
      "id": "d50f8577",
      "metadata": {
        "execution": {
          "iopub.execute_input": "2023-01-19T15:58:03.754704Z",
          "iopub.status.busy": "2023-01-19T15:58:03.753903Z",
          "iopub.status.idle": "2023-01-19T15:58:03.949083Z",
          "shell.execute_reply": "2023-01-19T15:58:03.948122Z"
        },
        "papermill": {
          "duration": 0.224906,
          "end_time": "2023-01-19T15:58:03.951465",
          "exception": false,
          "start_time": "2023-01-19T15:58:03.726559",
          "status": "completed"
        },
        "tags": [],
        "id": "d50f8577"
      },
      "outputs": [],
      "source": [
        "mutual_info.sort_values(ascending=False).plot.bar(figsize=(20, 8))\n"
      ]
    },
    {
      "cell_type": "code",
      "execution_count": null,
      "id": "751b5ff1",
      "metadata": {
        "execution": {
          "iopub.execute_input": "2023-01-19T15:58:04.007249Z",
          "iopub.status.busy": "2023-01-19T15:58:04.006534Z",
          "iopub.status.idle": "2023-01-19T15:58:04.011432Z",
          "shell.execute_reply": "2023-01-19T15:58:04.010622Z"
        },
        "papermill": {
          "duration": 0.035665,
          "end_time": "2023-01-19T15:58:04.013764",
          "exception": false,
          "start_time": "2023-01-19T15:58:03.978099",
          "status": "completed"
        },
        "tags": [],
        "id": "751b5ff1"
      },
      "outputs": [],
      "source": [
        "import matplotlib.pyplot as plt\n",
        "import seaborn as sns\n"
      ]
    },
    {
      "cell_type": "markdown",
      "id": "0665cb89",
      "metadata": {
        "papermill": {
          "duration": 0.025972,
          "end_time": "2023-01-19T15:58:04.065928",
          "exception": false,
          "start_time": "2023-01-19T15:58:04.039956",
          "status": "completed"
        },
        "tags": [],
        "id": "0665cb89"
      },
      "source": [
        "### **auc curve and confusion matrix**"
      ]
    },
    {
      "cell_type": "code",
      "execution_count": null,
      "id": "4287c541",
      "metadata": {
        "execution": {
          "iopub.execute_input": "2023-01-19T15:58:04.121532Z",
          "iopub.status.busy": "2023-01-19T15:58:04.120865Z",
          "iopub.status.idle": "2023-01-19T15:58:04.349303Z",
          "shell.execute_reply": "2023-01-19T15:58:04.348092Z"
        },
        "papermill": {
          "duration": 0.259746,
          "end_time": "2023-01-19T15:58:04.351750",
          "exception": false,
          "start_time": "2023-01-19T15:58:04.092004",
          "status": "completed"
        },
        "tags": [],
        "id": "4287c541"
      },
      "outputs": [],
      "source": [
        "fpr, tpr, threshold = metrics.roc_curve(y_test1, pred_cv1)\n",
        "roc_auc = metrics.auc(fpr, tpr)\n",
        "\n",
        "# method I: plt\n",
        "plt.title('Receiver Operating Characteristic')\n",
        "plt.plot(fpr, tpr, 'b', label = 'AUC = %0.6f' % roc_auc)\n",
        "plt.legend(loc = 'lower right')\n",
        "plt.plot([0, 1], [0, 1],'r--')\n",
        "plt.xlim([0, 1])\n",
        "plt.ylim([0, 1])\n",
        "plt.ylabel('True Positive Rate')\n",
        "plt.xlabel('False Positive Rate')\n",
        "plt.show()\n"
      ]
    },
    {
      "cell_type": "code",
      "execution_count": null,
      "id": "ffeaeb94",
      "metadata": {
        "papermill": {
          "duration": 0.026476,
          "end_time": "2023-01-19T15:58:04.405041",
          "exception": false,
          "start_time": "2023-01-19T15:58:04.378565",
          "status": "completed"
        },
        "tags": [],
        "id": "ffeaeb94"
      },
      "outputs": [],
      "source": []
    },
    {
      "cell_type": "code",
      "execution_count": null,
      "id": "85ce90f9",
      "metadata": {
        "execution": {
          "iopub.execute_input": "2023-01-19T15:58:04.460438Z",
          "iopub.status.busy": "2023-01-19T15:58:04.460021Z",
          "iopub.status.idle": "2023-01-19T15:58:04.467092Z",
          "shell.execute_reply": "2023-01-19T15:58:04.466042Z"
        },
        "papermill": {
          "duration": 0.037376,
          "end_time": "2023-01-19T15:58:04.469340",
          "exception": false,
          "start_time": "2023-01-19T15:58:04.431964",
          "status": "completed"
        },
        "tags": [],
        "id": "85ce90f9"
      },
      "outputs": [],
      "source": [
        "\n",
        "def plot_cm(labels, predictions, p=0.5):\n",
        "    cm = confusion_matrix(labels, predictions > p)\n",
        "    plt.figure(figsize=(5,5))\n",
        "    sns.heatmap(cm, annot=True, fmt=\"d\")\n",
        "    plt.title('Confusion matrix @{:.2f}'.format(p))\n",
        "    plt.ylabel('Actual label')\n",
        "    plt.xlabel('Predicted label')\n",
        "    print('True Negatives: ', cm[0][0])\n",
        "    print('False Positives: ', cm[0][1])\n",
        "    print('False Negatives: ', cm[1][0])\n",
        "    print('True Positives: ', cm[1][1])\n",
        "\n"
      ]
    },
    {
      "cell_type": "markdown",
      "id": "e61d62be",
      "metadata": {
        "papermill": {
          "duration": 0.026199,
          "end_time": "2023-01-19T15:58:04.522418",
          "exception": false,
          "start_time": "2023-01-19T15:58:04.496219",
          "status": "completed"
        },
        "tags": [],
        "id": "e61d62be"
      },
      "source": [
        "FOR LOGISTIC REGRESSION"
      ]
    },
    {
      "cell_type": "code",
      "execution_count": null,
      "id": "70a4d375",
      "metadata": {
        "execution": {
          "iopub.execute_input": "2023-01-19T15:58:04.577873Z",
          "iopub.status.busy": "2023-01-19T15:58:04.577211Z",
          "iopub.status.idle": "2023-01-19T15:58:05.010871Z",
          "shell.execute_reply": "2023-01-19T15:58:05.009406Z"
        },
        "papermill": {
          "duration": 0.464621,
          "end_time": "2023-01-19T15:58:05.013640",
          "exception": false,
          "start_time": "2023-01-19T15:58:04.549019",
          "status": "completed"
        },
        "tags": [],
        "id": "70a4d375"
      },
      "outputs": [],
      "source": [
        "\n",
        "plot_cm(y_test1, pred_cv1)"
      ]
    },
    {
      "cell_type": "markdown",
      "id": "08ed6b12",
      "metadata": {
        "papermill": {
          "duration": 0.026966,
          "end_time": "2023-01-19T15:58:05.068054",
          "exception": false,
          "start_time": "2023-01-19T15:58:05.041088",
          "status": "completed"
        },
        "tags": [],
        "id": "08ed6b12"
      },
      "source": [
        "FOR RANDOMFORESTCLASSIFIER"
      ]
    },
    {
      "cell_type": "code",
      "execution_count": null,
      "id": "e038b991",
      "metadata": {
        "execution": {
          "iopub.execute_input": "2023-01-19T15:58:05.124279Z",
          "iopub.status.busy": "2023-01-19T15:58:05.123880Z",
          "iopub.status.idle": "2023-01-19T15:58:05.554387Z",
          "shell.execute_reply": "2023-01-19T15:58:05.552886Z"
        },
        "papermill": {
          "duration": 0.461642,
          "end_time": "2023-01-19T15:58:05.557038",
          "exception": false,
          "start_time": "2023-01-19T15:58:05.095396",
          "status": "completed"
        },
        "tags": [],
        "id": "e038b991"
      },
      "outputs": [],
      "source": [
        "plot_cm(y_test1, pred_cv2)"
      ]
    },
    {
      "cell_type": "code",
      "execution_count": null,
      "id": "1b853a55",
      "metadata": {
        "execution": {
          "iopub.execute_input": "2023-01-19T15:58:05.615058Z",
          "iopub.status.busy": "2023-01-19T15:58:05.614370Z",
          "iopub.status.idle": "2023-01-19T15:58:05.618858Z",
          "shell.execute_reply": "2023-01-19T15:58:05.617814Z"
        },
        "papermill": {
          "duration": 0.036645,
          "end_time": "2023-01-19T15:58:05.621355",
          "exception": false,
          "start_time": "2023-01-19T15:58:05.584710",
          "status": "completed"
        },
        "tags": [],
        "id": "1b853a55"
      },
      "outputs": [],
      "source": [
        "\n",
        "from sklearn.metrics import auc"
      ]
    },
    {
      "cell_type": "code",
      "execution_count": null,
      "id": "2ba9f293",
      "metadata": {
        "execution": {
          "iopub.execute_input": "2023-01-19T15:58:05.679546Z",
          "iopub.status.busy": "2023-01-19T15:58:05.679050Z",
          "iopub.status.idle": "2023-01-19T15:58:05.684054Z",
          "shell.execute_reply": "2023-01-19T15:58:05.683116Z"
        },
        "papermill": {
          "duration": 0.036896,
          "end_time": "2023-01-19T15:58:05.686345",
          "exception": false,
          "start_time": "2023-01-19T15:58:05.649449",
          "status": "completed"
        },
        "tags": [],
        "id": "2ba9f293"
      },
      "outputs": [],
      "source": [
        "from sklearn.metrics import precision_recall_curve\n",
        "from sklearn.metrics import f1_score"
      ]
    },
    {
      "cell_type": "code",
      "execution_count": null,
      "id": "2c956b0c",
      "metadata": {
        "papermill": {
          "duration": 0.02721,
          "end_time": "2023-01-19T15:58:05.741967",
          "exception": false,
          "start_time": "2023-01-19T15:58:05.714757",
          "status": "completed"
        },
        "tags": [],
        "id": "2c956b0c"
      },
      "outputs": [],
      "source": []
    },
    {
      "cell_type": "markdown",
      "id": "4555976e",
      "metadata": {
        "papermill": {
          "duration": 0.027241,
          "end_time": "2023-01-19T15:58:05.796736",
          "exception": false,
          "start_time": "2023-01-19T15:58:05.769495",
          "status": "completed"
        },
        "tags": [],
        "id": "4555976e"
      },
      "source": [
        "### **PR Curve**"
      ]
    },
    {
      "cell_type": "code",
      "execution_count": null,
      "id": "8ffea591",
      "metadata": {
        "execution": {
          "iopub.execute_input": "2023-01-19T15:58:05.853537Z",
          "iopub.status.busy": "2023-01-19T15:58:05.853092Z",
          "iopub.status.idle": "2023-01-19T15:58:06.809979Z",
          "shell.execute_reply": "2023-01-19T15:58:06.808661Z"
        },
        "papermill": {
          "duration": 0.988552,
          "end_time": "2023-01-19T15:58:06.812709",
          "exception": false,
          "start_time": "2023-01-19T15:58:05.824157",
          "status": "completed"
        },
        "tags": [],
        "id": "8ffea591"
      },
      "outputs": [],
      "source": [
        "lr_precision, lr_recall, _ = precision_recall_curve(y_test1, pred_cv1)\n",
        "# calculate scores\n",
        "lr_f1, lr_auc = f1_score(y_test1, pred_cv1), auc(lr_recall, lr_precision)\n",
        "# summarize scores\n",
        "print('Logistic: f1=%.3f auc=%.3f' % (lr_f1, lr_auc))\n",
        "# plot the precision-recall curves\n",
        "no_skill = len(y_test1[y_test1==1]) / len(y_test1)\n",
        "plt.plot([0, 1], [no_skill, no_skill], linestyle='--', label='No Skill')\n",
        "plt.plot(lr_recall, lr_precision, marker='.', label='Logistic')\n",
        "# axis labels\n",
        "plt.xlabel('Recall')\n",
        "plt.ylabel('Precision')\n",
        "# show the legend\n",
        "plt.legend()\n",
        "# show the plot\n",
        "plt.show()"
      ]
    },
    {
      "cell_type": "markdown",
      "id": "a1b28b5d",
      "metadata": {
        "papermill": {
          "duration": 0.027387,
          "end_time": "2023-01-19T15:58:06.867752",
          "exception": false,
          "start_time": "2023-01-19T15:58:06.840365",
          "status": "completed"
        },
        "tags": [],
        "id": "a1b28b5d"
      },
      "source": [
        "# Q&A"
      ]
    },
    {
      "cell_type": "markdown",
      "id": "6951d7fe",
      "metadata": {
        "papermill": {
          "duration": 0.027208,
          "end_time": "2023-01-19T15:58:06.922663",
          "exception": false,
          "start_time": "2023-01-19T15:58:06.895455",
          "status": "completed"
        },
        "tags": [],
        "id": "6951d7fe"
      },
      "source": [
        "> QUESTIONS TO ANSWER\n",
        "1. Data cleaning including missing values, outliers and multi-collinearity.\n",
        "2. Describe your fraud detection model in elaboration.\n",
        "3. How did you select variables to be included in the model?\n",
        "4. Demonstrate the performance of the model by using best set of tools.\n",
        "5. What are the key factors that predict fraudulent customer?\n",
        "6. Do these factors make sense? If yes, How? If not, How not?\n",
        "7. What kind of prevention should be adopted while company update its infrastructure?\n",
        "8. Assuming these actions have been implemented, how would you determine if they work?"
      ]
    },
    {
      "cell_type": "markdown",
      "id": "f4049c10",
      "metadata": {
        "papermill": {
          "duration": 0.027264,
          "end_time": "2023-01-19T15:58:06.977749",
          "exception": false,
          "start_time": "2023-01-19T15:58:06.950485",
          "status": "completed"
        },
        "tags": [],
        "id": "f4049c10"
      },
      "source": [
        "1. Dataset contains no missing values, but after feature engineering vif of few features was very high so I use VIF to remove them.\n",
        "2. This will answered by combining all of answers of this question will be answered by following answers.\n",
        "3. I bascially dropped thew columns which doesnt provide any information gain and have very high VIF ( variance influence factor), apart from that I performed feature engineering and lastly took all the columns which got left.\n",
        "4. I have provided various metrics, as accuracy is not a good metric for imbalanced dataset , I have provide classification reports which provide precision,recall anf F1 score(recommended for imbalanced dataset).\n",
        "5. I have performed the process of feature importance by using mututal information,Mutual Information measures the entropy drops under the condition of the target value. by that I found the most imortant fearures are following in decreasing importance or information gain:\n",
        "* type\n",
        "* possible_fraud2     \n",
        "* origin_bal_change   \n",
        "* possible_fraud       \n",
        "* amount              \n",
        "* isFlaggedFraud\n",
        "\n",
        "\n",
        "6.  **Type**: I performed feature engineering on feature TYPE, what I found was that the proproptions of fraud transactions when looked in terms of unique values in column type (which is basically column        for transaction type) is only given by two types of transaction CASH_OUT (50.11567) TRANSFER (49.88433), what that means is all fraud transactions are  either cash_out or transfer of amount to              different account which makes sense as fraud transaction will be done either taking fraud money out from someone's account or transferring it to diffferent account.\n",
        "     I mapped 1 to both cash_out and transfer and 0 to other values , so basically I weighted them and give more preference for genuine reason.\n",
        "    \n",
        "    **origin_bal_change**: In fraudulent transactions, the origin account is completely emptied out (almost), so this feature provides a unique perspective about fraudlent transactions and its also be seen      by the kernel density plot for newbalanceorigin.\n",
        "    it also makes sense as no one empty their account during any transaction, empyting account can lead to expiration of the account itself, so it clearly implies their is fraudlent transaction.\n",
        "    \n",
        "    **possible_fraud**: this feature again was made during feature engineering, this feature bascially consider those transaction which involve emptying the originaccount balance as we have seen that in         fraudlent transaction this is prominent so I have marked 1 all such transcations.\n",
        "    \n",
        "    **possible_fraud2**: this feature takes account the fact that in fraudulent transactions, the newbalance in the destination account does not increase at all, the change is 0 , I have marked all those\n",
        "    transaction as 1 which are not previosly marked as 1 by possible fraud feature and isFlaggedFraud so that we can gain new information and multicollinearaity remain distant. This can be seen by KDE Plot     clearly.\n",
        "    \n",
        "    **amount**: In KDE Plot for amount we can see that when transaction amount increases the number of fraudlent transaction also increases, not only that at bveyond certain amounts (2x10^^) the fraudlent       transaction are significantly higher than non fraud transactions which makes sense as fraudlentr transction usally involve large sums of money.\n",
        "    \n",
        "The rest features have no strong reason for their relationships\n",
        "\n",
        "7. The company should contact the account holder as soon as the transaction amount crosses 30% of their balance in account and should not let them totally empty their account, by that they can significantly    decrease fraudlent transaction.\n",
        "8. To check the efficiency of step above take, they can first all check the number of fraudlent transaction further they can run a model like this and check the feature importance, if the feature importance of features which were considered during decision making decreasing that means that feature did its work and rest fraudlent transactoin have no significant relationship with that feature and futher they can check other features and take steps accordinly."
      ]
    },
    {
      "cell_type": "code",
      "execution_count": null,
      "id": "66111588",
      "metadata": {
        "papermill": {
          "duration": 0.027042,
          "end_time": "2023-01-19T15:58:07.032348",
          "exception": false,
          "start_time": "2023-01-19T15:58:07.005306",
          "status": "completed"
        },
        "tags": [],
        "id": "66111588"
      },
      "outputs": [],
      "source": []
    }
  ],
  "metadata": {
    "kernelspec": {
      "display_name": "Python 3",
      "language": "python",
      "name": "python3"
    },
    "language_info": {
      "codemirror_mode": {
        "name": "ipython",
        "version": 3
      },
      "file_extension": ".py",
      "mimetype": "text/x-python",
      "name": "python",
      "nbconvert_exporter": "python",
      "pygments_lexer": "ipython3",
      "version": "3.7.12"
    },
    "papermill": {
      "default_parameters": {},
      "duration": 869.947137,
      "end_time": "2023-01-19T15:58:08.285620",
      "environment_variables": {},
      "exception": null,
      "input_path": "__notebook__.ipynb",
      "output_path": "__notebook__.ipynb",
      "parameters": {},
      "start_time": "2023-01-19T15:43:38.338483",
      "version": "2.3.4"
    },
    "colab": {
      "provenance": []
    }
  },
  "nbformat": 4,
  "nbformat_minor": 5
}